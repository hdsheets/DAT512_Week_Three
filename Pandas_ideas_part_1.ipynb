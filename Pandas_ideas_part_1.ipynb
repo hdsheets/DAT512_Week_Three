{
 "cells": [
  {
   "cell_type": "markdown",
   "id": "e68b6bd9",
   "metadata": {},
   "source": [
    "### Pandas\n",
    "\n",
    "Pandas is a python package for importing and working with tabular data,  such as spreadsheet tables\n",
    "\n",
    "It provides for a dataframe style interface,  very similar to data frames in R\n",
    "\n",
    "Pandas is using NumPy matrices \"underneath\" the Pandas structures,  and it is easy to \"extract\" NumPy matrices from a Pandas \n",
    "dataframe.   Many functions in sklearn and other packages will accept either Pandas data frames or NumPy matrices as inputs.\n",
    "\n",
    "Pandas allows for different types of data per column, as opposed by the requirement in NumPy that the matrices be homogeneous.\n",
    "\n",
    "Pandas has a massive number of built in functions,  that allow for vectorized operations on the DataFrame,  plus a bunch of visualization tools built into it.\n",
    "\n",
    "Pandas does have some quirks in how you handle accessing and slicing the data, it doesn't use the standard square bracket approach   df[1,2] does not work,  watch for that\n"
   ]
  },
  {
   "cell_type": "markdown",
   "id": "ccb8ef19",
   "metadata": {},
   "source": [
    "# Sources of this material\n",
    "\n",
    "Chapter 5 of \"Python for Data Analysis\"- Wes McKinney\n",
    "\n",
    "    https://learning.oreilly.com/library/view/python-for-data/9781491957653/ch05.html\n",
    "    \n",
    "The Pandas website is at\n",
    "\n",
    "    https://pandas.pydata.org/\n",
    "\n",
    "    \n",
    "    "
   ]
  },
  {
   "cell_type": "markdown",
   "id": "c930cd72",
   "metadata": {},
   "source": [
    "# Panda Series\n",
    "\n",
    "1-D array like objects in Pandas"
   ]
  },
  {
   "cell_type": "code",
   "execution_count": 1,
   "id": "896dd035",
   "metadata": {},
   "outputs": [],
   "source": [
    "import pandas as pd\n",
    "import numpy as np"
   ]
  },
  {
   "cell_type": "code",
   "execution_count": 2,
   "id": "ced7daf9",
   "metadata": {},
   "outputs": [],
   "source": [
    "# creating a series from a list\n",
    "\n",
    "#lists have indices and objects\n",
    "\n",
    "my_obj=pd.Series([4,7,-9,2])"
   ]
  },
  {
   "cell_type": "code",
   "execution_count": 3,
   "id": "4ccc37bc",
   "metadata": {},
   "outputs": [
    {
     "data": {
      "text/plain": [
       "0    4\n",
       "1    7\n",
       "2   -9\n",
       "3    2\n",
       "dtype: int64"
      ]
     },
     "execution_count": 3,
     "metadata": {},
     "output_type": "execute_result"
    }
   ],
   "source": [
    "my_obj"
   ]
  },
  {
   "cell_type": "code",
   "execution_count": 4,
   "id": "19f372e8",
   "metadata": {},
   "outputs": [
    {
     "data": {
      "text/plain": [
       "array([ 4,  7, -9,  2], dtype=int64)"
      ]
     },
     "execution_count": 4,
     "metadata": {},
     "output_type": "execute_result"
    }
   ],
   "source": [
    "my_obj.values"
   ]
  },
  {
   "cell_type": "code",
   "execution_count": 5,
   "id": "1d8c6f65",
   "metadata": {
    "scrolled": true
   },
   "outputs": [
    {
     "data": {
      "text/plain": [
       "RangeIndex(start=0, stop=4, step=1)"
      ]
     },
     "execution_count": 5,
     "metadata": {},
     "output_type": "execute_result"
    }
   ],
   "source": [
    "# this is the index to this obj\n",
    "\n",
    "my_obj.index"
   ]
  },
  {
   "cell_type": "markdown",
   "id": "e2056ac3",
   "metadata": {},
   "source": [
    "Question- what is a RangeIndex??   "
   ]
  },
  {
   "cell_type": "code",
   "execution_count": 6,
   "id": "62a1d3aa",
   "metadata": {},
   "outputs": [
    {
     "data": {
      "text/plain": [
       "2"
      ]
     },
     "execution_count": 6,
     "metadata": {},
     "output_type": "execute_result"
    }
   ],
   "source": [
    "# we can specify the index when creating the series\n",
    "\n",
    "my_series2=pd.Series([-1,2,3,11],index=['a','b','c','d'])\n",
    "\n",
    "# we can then select values with the index- note this as a difference from a numpy array\n",
    "\n",
    "my_series2['b']"
   ]
  },
  {
   "cell_type": "markdown",
   "id": "54af6fa3",
   "metadata": {},
   "source": [
    "A series is sort of like a fixed length dictionary,  it is easy to create a series from a dictionary"
   ]
  },
  {
   "cell_type": "code",
   "execution_count": 7,
   "id": "4b574d2e",
   "metadata": {},
   "outputs": [
    {
     "data": {
      "text/plain": [
       "Ohio              2\n",
       "Pennsylvania     11\n",
       "Texas           311\n",
       "dtype: int64"
      ]
     },
     "execution_count": 7,
     "metadata": {},
     "output_type": "execute_result"
    }
   ],
   "source": [
    "s_dict={\"Ohio\":2,\"Pennsylvania\":11,\"Texas\":311}\n",
    "\n",
    "my_series3=pd.Series(s_dict)\n",
    "\n",
    "my_series3"
   ]
  },
  {
   "cell_type": "markdown",
   "id": "c832d696",
   "metadata": {},
   "source": [
    "Series automatically align the indexes when you do operations with them,  kind like a join"
   ]
  },
  {
   "cell_type": "code",
   "execution_count": 8,
   "id": "ca1eb54a",
   "metadata": {},
   "outputs": [
    {
     "data": {
      "text/plain": [
       "New York          NaN\n",
       "Ohio             10.0\n",
       "Pennsylvania     20.0\n",
       "Texas           321.0\n",
       "dtype: float64"
      ]
     },
     "execution_count": 8,
     "metadata": {},
     "output_type": "execute_result"
    }
   ],
   "source": [
    "\n",
    "s_dict2={\"Ohio\":8,\"Pennsylvania\":9,\"New York\":89,\"Texas\":10}\n",
    "\n",
    "my_series4=pd.Series(s_dict2)\n",
    "\n",
    "my_series3+my_series4\n",
    "\n",
    "#note the insertion of NaN when there is no matching entry,   output is also sorted by index"
   ]
  },
  {
   "cell_type": "code",
   "execution_count": 9,
   "id": "fcd01fb1",
   "metadata": {},
   "outputs": [
    {
     "data": {
      "text/plain": [
       "New York         True\n",
       "Ohio            False\n",
       "Pennsylvania    False\n",
       "Texas           False\n",
       "dtype: bool"
      ]
     },
     "execution_count": 9,
     "metadata": {},
     "output_type": "execute_result"
    }
   ],
   "source": [
    "# detecting the null entry\n",
    "\n",
    "out_series=my_series3+my_series4\n",
    "\n",
    "out_series.isnull()"
   ]
  },
  {
   "cell_type": "markdown",
   "id": "41d521c1",
   "metadata": {},
   "source": [
    "The interesting feature of Pandas Series is that the can be date indexed,  so that the series is representing a time series\n",
    "in this form, there are a whole bunch of member functions for working with the data as a time series.\n",
    "\n",
    "See\n",
    "\n",
    "    https://pandas.pydata.org/docs/reference/series.html\n",
    "\n",
    "We'll see about coming back to time series analysis a bit later if I can locate a good discussion of how Pandas series are used\n",
    "in this approach.  They seem to be more commonly found as a component of pandas dataframes.\n",
    "\n",
    "\n",
    "    https://www.dataquest.io/blog/tutorial-time-series-analysis-with-pandas/"
   ]
  },
  {
   "cell_type": "markdown",
   "id": "41819e24",
   "metadata": {},
   "source": [
    "# DataFrames in Pandas\n",
    "\n",
    "Pandas has dataframes,   each column of a data frame is a Pandas series,  these are the two basic storage forms in Pandas\n",
    "\n",
    "We can move data into Pandas data frames in a number of ways\n",
    "\n",
    "-manual entry\n",
    "\n",
    "-importing CSV files\n",
    "\n",
    "-pulling data from databases or from website APIs\n",
    "\n",
    "The R data type \"Factor\" doesn't exist in Pandas (sadly)- you wind up using either strings or integers as factor-like \n",
    "variables-  you wind up using what is called either integer coding of categories, or \"one-hot\" encoding,  more on that later"
   ]
  },
  {
   "cell_type": "markdown",
   "id": "5d5abac3",
   "metadata": {},
   "source": [
    "# Manually entering data into a dataframe"
   ]
  },
  {
   "cell_type": "code",
   "execution_count": 10,
   "id": "2a6924d3",
   "metadata": {},
   "outputs": [],
   "source": [
    "# inserting variables into a data frame\n",
    "a=np.array([1,2,3,4])\n",
    "b=[\"Hey\",\"Hey\",\"My\",\"My\"]\n",
    "c=(1.2, 2.1, 1.3, -2.0)"
   ]
  },
  {
   "cell_type": "code",
   "execution_count": 11,
   "id": "82ce97e1",
   "metadata": {},
   "outputs": [],
   "source": [
    "# use one or more cells to figure out what type of objects a, b and c are,  also what type of data is in each-  show this \n",
    "# work in this cell\n",
    "\n",
    "# when looking at examples,  always, always be aware of what data types are in use\n",
    "\n",
    "\n",
    "\n",
    "\n",
    "\n"
   ]
  },
  {
   "cell_type": "code",
   "execution_count": 12,
   "id": "96469f02",
   "metadata": {
    "scrolled": true
   },
   "outputs": [
    {
     "data": {
      "text/html": [
       "<div>\n",
       "<style scoped>\n",
       "    .dataframe tbody tr th:only-of-type {\n",
       "        vertical-align: middle;\n",
       "    }\n",
       "\n",
       "    .dataframe tbody tr th {\n",
       "        vertical-align: top;\n",
       "    }\n",
       "\n",
       "    .dataframe thead th {\n",
       "        text-align: right;\n",
       "    }\n",
       "</style>\n",
       "<table border=\"1\" class=\"dataframe\">\n",
       "  <thead>\n",
       "    <tr style=\"text-align: right;\">\n",
       "      <th></th>\n",
       "      <th>x</th>\n",
       "      <th>y</th>\n",
       "      <th>z</th>\n",
       "    </tr>\n",
       "  </thead>\n",
       "  <tbody>\n",
       "    <tr>\n",
       "      <th>0</th>\n",
       "      <td>1</td>\n",
       "      <td>Hey</td>\n",
       "      <td>1.2</td>\n",
       "    </tr>\n",
       "    <tr>\n",
       "      <th>1</th>\n",
       "      <td>2</td>\n",
       "      <td>Hey</td>\n",
       "      <td>2.1</td>\n",
       "    </tr>\n",
       "    <tr>\n",
       "      <th>2</th>\n",
       "      <td>3</td>\n",
       "      <td>My</td>\n",
       "      <td>1.3</td>\n",
       "    </tr>\n",
       "    <tr>\n",
       "      <th>3</th>\n",
       "      <td>4</td>\n",
       "      <td>My</td>\n",
       "      <td>-2.0</td>\n",
       "    </tr>\n",
       "  </tbody>\n",
       "</table>\n",
       "</div>"
      ],
      "text/plain": [
       "   x    y    z\n",
       "0  1  Hey  1.2\n",
       "1  2  Hey  2.1\n",
       "2  3   My  1.3\n",
       "3  4   My -2.0"
      ]
     },
     "execution_count": 12,
     "metadata": {},
     "output_type": "execute_result"
    }
   ],
   "source": [
    "# Manually entering data into a dataframe\n",
    "# insert into a data frame\n",
    "# note that the data here is forced into the form of a dictionary, with the variable names in quotes\n",
    "\n",
    "stuff_df=pd.DataFrame({'x':a,'y':b,'z':c})\n",
    "\n",
    "stuff_df"
   ]
  },
  {
   "cell_type": "code",
   "execution_count": 54,
   "id": "9fef98c0",
   "metadata": {},
   "outputs": [
    {
     "name": "stderr",
     "output_type": "stream",
     "text": [
      "C:\\Users\\hdavi\\Anaconda3\\envs\\base2\\lib\\site-packages\\pandas\\util\\_decorators.py:311: ParserWarning: Falling back to the 'python' engine because the 'c' engine does not support regex separators (separators > 1 char and different from '\\s+' are interpreted as regex); you can avoid this warning by specifying engine='python'.\n",
      "  return func(*args, **kwargs)\n"
     ]
    },
    {
     "data": {
      "text/html": [
       "<div>\n",
       "<style scoped>\n",
       "    .dataframe tbody tr th:only-of-type {\n",
       "        vertical-align: middle;\n",
       "    }\n",
       "\n",
       "    .dataframe tbody tr th {\n",
       "        vertical-align: top;\n",
       "    }\n",
       "\n",
       "    .dataframe thead th {\n",
       "        text-align: right;\n",
       "    }\n",
       "</style>\n",
       "<table border=\"1\" class=\"dataframe\">\n",
       "  <thead>\n",
       "    <tr style=\"text-align: right;\">\n",
       "      <th></th>\n",
       "      <th>\"fixed acidity\"</th>\n",
       "      <th>\"volatile acidity\"</th>\n",
       "      <th>\"citric acid\"</th>\n",
       "      <th>\"residual sugar\"</th>\n",
       "      <th>\"chlorides\"</th>\n",
       "      <th>\"free sulfur dioxide\"</th>\n",
       "      <th>\"total sulfur dioxide\"</th>\n",
       "      <th>\"density\"</th>\n",
       "      <th>\"pH\"</th>\n",
       "      <th>\"sulphates\"</th>\n",
       "      <th>\"alcohol\"</th>\n",
       "      <th>\"quality\"</th>\n",
       "    </tr>\n",
       "  </thead>\n",
       "  <tbody>\n",
       "    <tr>\n",
       "      <th>0</th>\n",
       "      <td>7.4</td>\n",
       "      <td>0.70</td>\n",
       "      <td>0.00</td>\n",
       "      <td>1.9</td>\n",
       "      <td>0.076</td>\n",
       "      <td>11.0</td>\n",
       "      <td>34.0</td>\n",
       "      <td>0.9978</td>\n",
       "      <td>3.51</td>\n",
       "      <td>0.56</td>\n",
       "      <td>9.4</td>\n",
       "      <td>5</td>\n",
       "    </tr>\n",
       "    <tr>\n",
       "      <th>1</th>\n",
       "      <td>7.8</td>\n",
       "      <td>0.88</td>\n",
       "      <td>0.00</td>\n",
       "      <td>2.6</td>\n",
       "      <td>0.098</td>\n",
       "      <td>25.0</td>\n",
       "      <td>67.0</td>\n",
       "      <td>0.9968</td>\n",
       "      <td>3.20</td>\n",
       "      <td>0.68</td>\n",
       "      <td>9.8</td>\n",
       "      <td>5</td>\n",
       "    </tr>\n",
       "    <tr>\n",
       "      <th>2</th>\n",
       "      <td>7.8</td>\n",
       "      <td>0.76</td>\n",
       "      <td>0.04</td>\n",
       "      <td>2.3</td>\n",
       "      <td>0.092</td>\n",
       "      <td>15.0</td>\n",
       "      <td>54.0</td>\n",
       "      <td>0.9970</td>\n",
       "      <td>3.26</td>\n",
       "      <td>0.65</td>\n",
       "      <td>9.8</td>\n",
       "      <td>5</td>\n",
       "    </tr>\n",
       "    <tr>\n",
       "      <th>3</th>\n",
       "      <td>11.2</td>\n",
       "      <td>0.28</td>\n",
       "      <td>0.56</td>\n",
       "      <td>1.9</td>\n",
       "      <td>0.075</td>\n",
       "      <td>17.0</td>\n",
       "      <td>60.0</td>\n",
       "      <td>0.9980</td>\n",
       "      <td>3.16</td>\n",
       "      <td>0.58</td>\n",
       "      <td>9.8</td>\n",
       "      <td>6</td>\n",
       "    </tr>\n",
       "  </tbody>\n",
       "</table>\n",
       "</div>"
      ],
      "text/plain": [
       "   \"fixed acidity\"  \"volatile acidity\"  \"citric acid\"  \"residual sugar\"  \\\n",
       "0              7.4                0.70           0.00               1.9   \n",
       "1              7.8                0.88           0.00               2.6   \n",
       "2              7.8                0.76           0.04               2.3   \n",
       "3             11.2                0.28           0.56               1.9   \n",
       "\n",
       "   \"chlorides\"  \"free sulfur dioxide\"  \"total sulfur dioxide\"  \"density\"  \\\n",
       "0        0.076                   11.0                    34.0     0.9978   \n",
       "1        0.098                   25.0                    67.0     0.9968   \n",
       "2        0.092                   15.0                    54.0     0.9970   \n",
       "3        0.075                   17.0                    60.0     0.9980   \n",
       "\n",
       "   \"pH\"  \"sulphates\"  \"alcohol\"  \"quality\"  \n",
       "0  3.51         0.56        9.4          5  \n",
       "1  3.20         0.68        9.8          5  \n",
       "2  3.26         0.65        9.8          5  \n",
       "3  3.16         0.58        9.8          6  "
      ]
     },
     "execution_count": 54,
     "metadata": {},
     "output_type": "execute_result"
    }
   ],
   "source": [
    "# reading a csv file\n",
    "#we will look at the standard red-wine data set\n",
    "\n",
    "infile=\"C:\\\\Users\\\\hdavi\\\\Dropbox\\\\Data_Analytics\\\\DAT511_Data_Cleaning\\\\Lectures_Fall_2018\\\\Example_data\\\\UCI_wine_data\\\\winequality-red.csv\"\n",
    "\n",
    "# notice here that a regex string specifier is used in the pd.read_csv() funtion here \"\\;|\\,\" to indicate that the separator \n",
    "# (or delimiter) being used is \n",
    "# \";\" or \",\",   the escape code \\ is uses so that : and , are intrepeted as charactoers\n",
    "\n",
    "# The red wine set used here is labeled as a csv is not really comma delimited (sigh),   it is ; delimited\n",
    "\n",
    "# sep=\"\\;\" would have worked fine here,   I used the regex expression to show how to allow for two different delimiters.\n",
    "\n",
    "#  there is also pd.read_table available,  which reads a range of formats\n",
    "\n",
    "redwine_df=pd.read_csv(infile, sep=\"\\;|\\,\")\n",
    "\n",
    "\n",
    "# we have an available member function head to let us look at the data\n",
    "\n",
    "redwine_df.head(4)\n"
   ]
  },
  {
   "cell_type": "code",
   "execution_count": 70,
   "id": "f55a8ae5",
   "metadata": {},
   "outputs": [],
   "source": [
    "#API fetch\n",
    "\n",
    "#this is a data frame download from the Open Data Buffalo repository at\n",
    "#https://data.buffalony.gov/\n",
    "\n",
    "# in this case, thei s a copy of the City of Buffalo Public Art Inventory\n",
    "# note this just makes use of pd.read_csv again with the url from the data set,  which I found on Open Data Buffalo\n",
    "\n",
    "url=\"https://data.buffalony.gov/resource/6xz2-syui.csv\"\n",
    "    \n",
    "df_art=pd.read_csv(url)\n",
    "\n",
    "#make sure the data frome has no white space in the column names- this causes odd problems later\n",
    "\n",
    "df_art.columns = df_art.columns.str.strip()"
   ]
  },
  {
   "cell_type": "code",
   "execution_count": 71,
   "id": "b1a250a0",
   "metadata": {
    "scrolled": true
   },
   "outputs": [
    {
     "data": {
      "text/html": [
       "<div>\n",
       "<style scoped>\n",
       "    .dataframe tbody tr th:only-of-type {\n",
       "        vertical-align: middle;\n",
       "    }\n",
       "\n",
       "    .dataframe tbody tr th {\n",
       "        vertical-align: top;\n",
       "    }\n",
       "\n",
       "    .dataframe thead th {\n",
       "        text-align: right;\n",
       "    }\n",
       "</style>\n",
       "<table border=\"1\" class=\"dataframe\">\n",
       "  <thead>\n",
       "    <tr style=\"text-align: right;\">\n",
       "      <th></th>\n",
       "      <th>title</th>\n",
       "      <th>category</th>\n",
       "      <th>type</th>\n",
       "      <th>medium</th>\n",
       "      <th>frame</th>\n",
       "      <th>photo_url_link</th>\n",
       "      <th>artist</th>\n",
       "      <th>contractor</th>\n",
       "      <th>founder</th>\n",
       "      <th>architect</th>\n",
       "      <th>...</th>\n",
       "      <th>base_diameter_in</th>\n",
       "      <th>plaque_inscription</th>\n",
       "      <th>site</th>\n",
       "      <th>street_address</th>\n",
       "      <th>city</th>\n",
       "      <th>zip_code</th>\n",
       "      <th>state</th>\n",
       "      <th>latitude</th>\n",
       "      <th>longitude</th>\n",
       "      <th>geocoded_column</th>\n",
       "    </tr>\n",
       "  </thead>\n",
       "  <tbody>\n",
       "    <tr>\n",
       "      <th>0</th>\n",
       "      <td>SOLE PARK</td>\n",
       "      <td>SCULPTURE</td>\n",
       "      <td>RELIEF</td>\n",
       "      <td>STONE</td>\n",
       "      <td>False</td>\n",
       "      <td>UNKNOWN</td>\n",
       "      <td>UNKNOWN</td>\n",
       "      <td>NaN</td>\n",
       "      <td>NaN</td>\n",
       "      <td>NaN</td>\n",
       "      <td>...</td>\n",
       "      <td>NaN</td>\n",
       "      <td>NaN</td>\n",
       "      <td>PAT SOLE PARK</td>\n",
       "      <td>BUSTI AVE &amp; NIAGARA ST</td>\n",
       "      <td>BUFFALO</td>\n",
       "      <td>14213</td>\n",
       "      <td>NY</td>\n",
       "      <td>42.907321</td>\n",
       "      <td>-78.899787</td>\n",
       "      <td>(42.907321, -78.899787)</td>\n",
       "    </tr>\n",
       "    <tr>\n",
       "      <th>1</th>\n",
       "      <td>BUFFALO STREET MAP</td>\n",
       "      <td>GRAPHIC ARTS</td>\n",
       "      <td>MAP</td>\n",
       "      <td>PARCHMENT</td>\n",
       "      <td>True</td>\n",
       "      <td>UNKNOWN</td>\n",
       "      <td>SMITH BROTHERS COMPANY</td>\n",
       "      <td>NaN</td>\n",
       "      <td>NaN</td>\n",
       "      <td>NaN</td>\n",
       "      <td>...</td>\n",
       "      <td>NaN</td>\n",
       "      <td>NaN</td>\n",
       "      <td>502 CITY HALL</td>\n",
       "      <td>65 NIAGARA SQUARE</td>\n",
       "      <td>BUFFALO</td>\n",
       "      <td>14202</td>\n",
       "      <td>NY</td>\n",
       "      <td>42.886641</td>\n",
       "      <td>-78.879354</td>\n",
       "      <td>(42.886641, -78.879354)</td>\n",
       "    </tr>\n",
       "    <tr>\n",
       "      <th>2</th>\n",
       "      <td>WAR  MEMORIAL STADIUM RENDERING</td>\n",
       "      <td>GRAPHIC ARTS</td>\n",
       "      <td>DRAWING</td>\n",
       "      <td>PAPER</td>\n",
       "      <td>False</td>\n",
       "      <td>UNKNOWN</td>\n",
       "      <td>UNKNOWN</td>\n",
       "      <td>NaN</td>\n",
       "      <td>NaN</td>\n",
       "      <td>NaN</td>\n",
       "      <td>...</td>\n",
       "      <td>NaN</td>\n",
       "      <td>NaN</td>\n",
       "      <td>6TH FLOOR CITY HALL</td>\n",
       "      <td>65 NIAGARA SQUARE</td>\n",
       "      <td>BUFFALO</td>\n",
       "      <td>14202</td>\n",
       "      <td>NY</td>\n",
       "      <td>42.886641</td>\n",
       "      <td>-78.879354</td>\n",
       "      <td>(42.886641, -78.879354)</td>\n",
       "    </tr>\n",
       "    <tr>\n",
       "      <th>3</th>\n",
       "      <td>MAYOR HIRAM BARTON</td>\n",
       "      <td>PAINTINGS</td>\n",
       "      <td>PORTRAIT</td>\n",
       "      <td>OIL ON CANVAS</td>\n",
       "      <td>True</td>\n",
       "      <td>HTTP://WWW.CI.BUFFALO.NY.US/FILES/1_2_1/PUBLIC...</td>\n",
       "      <td>UNKNOWN</td>\n",
       "      <td>NaN</td>\n",
       "      <td>NaN</td>\n",
       "      <td>NaN</td>\n",
       "      <td>...</td>\n",
       "      <td>NaN</td>\n",
       "      <td>NaN</td>\n",
       "      <td>201 CITY HALL</td>\n",
       "      <td>65 NIAGARA SQUARE</td>\n",
       "      <td>BUFFALO</td>\n",
       "      <td>14202</td>\n",
       "      <td>NY</td>\n",
       "      <td>42.886641</td>\n",
       "      <td>-78.879354</td>\n",
       "      <td>(42.886641, -78.879354)</td>\n",
       "    </tr>\n",
       "    <tr>\n",
       "      <th>4</th>\n",
       "      <td>MAYOR ELI COOK</td>\n",
       "      <td>GRAPHICS ARTS</td>\n",
       "      <td>PORTRAIT</td>\n",
       "      <td>PASTEL ON PAPER</td>\n",
       "      <td>True</td>\n",
       "      <td>HTTP://WWW.CI.BUFFALO.NY.US/FILES/1_2_1/PUBLIC...</td>\n",
       "      <td>UNKNOWN</td>\n",
       "      <td>NaN</td>\n",
       "      <td>NaN</td>\n",
       "      <td>NaN</td>\n",
       "      <td>...</td>\n",
       "      <td>NaN</td>\n",
       "      <td>NaN</td>\n",
       "      <td>2ND FLOOR STORAGE CITY HALL</td>\n",
       "      <td>65 NIAGARA SQUARE</td>\n",
       "      <td>BUFFALO</td>\n",
       "      <td>14202</td>\n",
       "      <td>NY</td>\n",
       "      <td>42.886641</td>\n",
       "      <td>-78.879354</td>\n",
       "      <td>(42.886641, -78.879354)</td>\n",
       "    </tr>\n",
       "  </tbody>\n",
       "</table>\n",
       "<p>5 rows × 30 columns</p>\n",
       "</div>"
      ],
      "text/plain": [
       "                             title       category      type           medium  \\\n",
       "0                        SOLE PARK      SCULPTURE    RELIEF            STONE   \n",
       "1               BUFFALO STREET MAP   GRAPHIC ARTS       MAP        PARCHMENT   \n",
       "2  WAR  MEMORIAL STADIUM RENDERING   GRAPHIC ARTS   DRAWING            PAPER   \n",
       "3               MAYOR HIRAM BARTON      PAINTINGS  PORTRAIT    OIL ON CANVAS   \n",
       "4                   MAYOR ELI COOK  GRAPHICS ARTS  PORTRAIT  PASTEL ON PAPER   \n",
       "\n",
       "   frame                                     photo_url_link  \\\n",
       "0  False                                            UNKNOWN   \n",
       "1   True                                            UNKNOWN   \n",
       "2  False                                            UNKNOWN   \n",
       "3   True  HTTP://WWW.CI.BUFFALO.NY.US/FILES/1_2_1/PUBLIC...   \n",
       "4   True  HTTP://WWW.CI.BUFFALO.NY.US/FILES/1_2_1/PUBLIC...   \n",
       "\n",
       "                   artist contractor founder architect  ... base_diameter_in  \\\n",
       "0                 UNKNOWN        NaN     NaN       NaN  ...              NaN   \n",
       "1  SMITH BROTHERS COMPANY        NaN     NaN       NaN  ...              NaN   \n",
       "2                 UNKNOWN        NaN     NaN       NaN  ...              NaN   \n",
       "3                 UNKNOWN        NaN     NaN       NaN  ...              NaN   \n",
       "4                 UNKNOWN        NaN     NaN       NaN  ...              NaN   \n",
       "\n",
       "  plaque_inscription                         site          street_address  \\\n",
       "0                NaN                PAT SOLE PARK  BUSTI AVE & NIAGARA ST   \n",
       "1                NaN                502 CITY HALL       65 NIAGARA SQUARE   \n",
       "2                NaN          6TH FLOOR CITY HALL       65 NIAGARA SQUARE   \n",
       "3                NaN                201 CITY HALL       65 NIAGARA SQUARE   \n",
       "4                NaN  2ND FLOOR STORAGE CITY HALL       65 NIAGARA SQUARE   \n",
       "\n",
       "      city  zip_code  state   latitude  longitude          geocoded_column  \n",
       "0  BUFFALO     14213     NY  42.907321 -78.899787  (42.907321, -78.899787)  \n",
       "1  BUFFALO     14202     NY  42.886641 -78.879354  (42.886641, -78.879354)  \n",
       "2  BUFFALO     14202     NY  42.886641 -78.879354  (42.886641, -78.879354)  \n",
       "3  BUFFALO     14202     NY  42.886641 -78.879354  (42.886641, -78.879354)  \n",
       "4  BUFFALO     14202     NY  42.886641 -78.879354  (42.886641, -78.879354)  \n",
       "\n",
       "[5 rows x 30 columns]"
      ]
     },
     "execution_count": 71,
     "metadata": {},
     "output_type": "execute_result"
    }
   ],
   "source": [
    "df_art.head()"
   ]
  },
  {
   "cell_type": "markdown",
   "id": "7df843ee",
   "metadata": {},
   "source": [
    "# Other input functions\n",
    "\n",
    "There are a large number of pandas read functions,  see\n",
    "\n",
    "    https://pandas.pydata.org/docs/reference/api/pandas.read_csv.html?highlight=read_csv\n",
    "\n",
    "It can read excel files,  csv, pickled data, general \"tables\" from text files or url, off of the clipboard, json files, html files or sites, hdf, feather, parquet, sas, spss, sql tables, stata file etc\n",
    "\n",
    "It can write to most of these file formats as well.\n",
    "\n",
    "Writing to a csv is very simple,   df.to_csv() for example writes a dataframe to a csv,  with labels etc."
   ]
  },
  {
   "cell_type": "markdown",
   "id": "bfde7104",
   "metadata": {},
   "source": [
    "# basic information and plots\n",
    "\n",
    "Pandas has a lot of basic functions built in,  we would look at them using the redwine_df"
   ]
  },
  {
   "cell_type": "code",
   "execution_count": 72,
   "id": "c21dc491",
   "metadata": {},
   "outputs": [
    {
     "data": {
      "text/html": [
       "<div>\n",
       "<style scoped>\n",
       "    .dataframe tbody tr th:only-of-type {\n",
       "        vertical-align: middle;\n",
       "    }\n",
       "\n",
       "    .dataframe tbody tr th {\n",
       "        vertical-align: top;\n",
       "    }\n",
       "\n",
       "    .dataframe thead th {\n",
       "        text-align: right;\n",
       "    }\n",
       "</style>\n",
       "<table border=\"1\" class=\"dataframe\">\n",
       "  <thead>\n",
       "    <tr style=\"text-align: right;\">\n",
       "      <th></th>\n",
       "      <th>\"fixed acidity\"</th>\n",
       "      <th>\"volatile acidity\"</th>\n",
       "      <th>\"citric acid\"</th>\n",
       "      <th>\"residual sugar\"</th>\n",
       "      <th>\"chlorides\"</th>\n",
       "      <th>\"free sulfur dioxide\"</th>\n",
       "      <th>\"total sulfur dioxide\"</th>\n",
       "      <th>\"density\"</th>\n",
       "      <th>\"pH\"</th>\n",
       "      <th>\"sulphates\"</th>\n",
       "      <th>\"alcohol\"</th>\n",
       "      <th>\"quality\"</th>\n",
       "    </tr>\n",
       "  </thead>\n",
       "  <tbody>\n",
       "    <tr>\n",
       "      <th>0</th>\n",
       "      <td>7.4</td>\n",
       "      <td>0.70</td>\n",
       "      <td>0.00</td>\n",
       "      <td>1.9</td>\n",
       "      <td>0.076</td>\n",
       "      <td>11.0</td>\n",
       "      <td>34.0</td>\n",
       "      <td>0.9978</td>\n",
       "      <td>3.51</td>\n",
       "      <td>0.56</td>\n",
       "      <td>9.4</td>\n",
       "      <td>5</td>\n",
       "    </tr>\n",
       "    <tr>\n",
       "      <th>1</th>\n",
       "      <td>7.8</td>\n",
       "      <td>0.88</td>\n",
       "      <td>0.00</td>\n",
       "      <td>2.6</td>\n",
       "      <td>0.098</td>\n",
       "      <td>25.0</td>\n",
       "      <td>67.0</td>\n",
       "      <td>0.9968</td>\n",
       "      <td>3.20</td>\n",
       "      <td>0.68</td>\n",
       "      <td>9.8</td>\n",
       "      <td>5</td>\n",
       "    </tr>\n",
       "    <tr>\n",
       "      <th>2</th>\n",
       "      <td>7.8</td>\n",
       "      <td>0.76</td>\n",
       "      <td>0.04</td>\n",
       "      <td>2.3</td>\n",
       "      <td>0.092</td>\n",
       "      <td>15.0</td>\n",
       "      <td>54.0</td>\n",
       "      <td>0.9970</td>\n",
       "      <td>3.26</td>\n",
       "      <td>0.65</td>\n",
       "      <td>9.8</td>\n",
       "      <td>5</td>\n",
       "    </tr>\n",
       "  </tbody>\n",
       "</table>\n",
       "</div>"
      ],
      "text/plain": [
       "   \"fixed acidity\"  \"volatile acidity\"  \"citric acid\"  \"residual sugar\"  \\\n",
       "0              7.4                0.70           0.00               1.9   \n",
       "1              7.8                0.88           0.00               2.6   \n",
       "2              7.8                0.76           0.04               2.3   \n",
       "\n",
       "   \"chlorides\"  \"free sulfur dioxide\"  \"total sulfur dioxide\"  \"density\"  \\\n",
       "0        0.076                   11.0                    34.0     0.9978   \n",
       "1        0.098                   25.0                    67.0     0.9968   \n",
       "2        0.092                   15.0                    54.0     0.9970   \n",
       "\n",
       "   \"pH\"  \"sulphates\"  \"alcohol\"  \"quality\"  \n",
       "0  3.51         0.56        9.4          5  \n",
       "1  3.20         0.68        9.8          5  \n",
       "2  3.26         0.65        9.8          5  "
      ]
     },
     "execution_count": 72,
     "metadata": {},
     "output_type": "execute_result"
    }
   ],
   "source": [
    "# the head function\n",
    "\n",
    "redwine_df.head(3)"
   ]
  },
  {
   "cell_type": "code",
   "execution_count": 73,
   "id": "2fae9a4b",
   "metadata": {
    "scrolled": true
   },
   "outputs": [
    {
     "name": "stdout",
     "output_type": "stream",
     "text": [
      "19188\n",
      "(1599, 12)\n",
      "2\n"
     ]
    }
   ],
   "source": [
    "# basic info\n",
    "# size, shape and ndim\n",
    "\n",
    "#size- number of elements in the array\n",
    "print(redwine_df.size)\n",
    "#shape,   rows by columns\n",
    "print(redwine_df.shape)\n",
    "#ndim  number of dimensions\n",
    "print(redwine_df.ndim)"
   ]
  },
  {
   "cell_type": "code",
   "execution_count": 74,
   "id": "8dc02c6f",
   "metadata": {},
   "outputs": [
    {
     "data": {
      "text/plain": [
       "Index                       128\n",
       "\"fixed acidity\"           12792\n",
       "\"volatile acidity\"        12792\n",
       "\"citric acid\"             12792\n",
       "\"residual sugar\"          12792\n",
       "\"chlorides\"               12792\n",
       "\"free sulfur dioxide\"     12792\n",
       "\"total sulfur dioxide\"    12792\n",
       "\"density\"                 12792\n",
       "\"pH\"                      12792\n",
       "\"sulphates\"               12792\n",
       "\"alcohol\"                 12792\n",
       "\"quality\"                 12792\n",
       "dtype: int64"
      ]
     },
     "execution_count": 74,
     "metadata": {},
     "output_type": "execute_result"
    }
   ],
   "source": [
    "redwine_df.memory_usage()"
   ]
  },
  {
   "cell_type": "code",
   "execution_count": 75,
   "id": "0830aba3",
   "metadata": {},
   "outputs": [],
   "source": [
    "# strip any white space out of the column names\n",
    "# the pandas load function is prone to having trouble with leading or trailing whitespace\n",
    "\n",
    "\n",
    "redwine_df.columns = redwine_df.columns.str.strip()"
   ]
  },
  {
   "cell_type": "code",
   "execution_count": 76,
   "id": "b486e992",
   "metadata": {},
   "outputs": [
    {
     "data": {
      "text/html": [
       "<div>\n",
       "<style scoped>\n",
       "    .dataframe tbody tr th:only-of-type {\n",
       "        vertical-align: middle;\n",
       "    }\n",
       "\n",
       "    .dataframe tbody tr th {\n",
       "        vertical-align: top;\n",
       "    }\n",
       "\n",
       "    .dataframe thead th {\n",
       "        text-align: right;\n",
       "    }\n",
       "</style>\n",
       "<table border=\"1\" class=\"dataframe\">\n",
       "  <thead>\n",
       "    <tr style=\"text-align: right;\">\n",
       "      <th></th>\n",
       "      <th>\"fixed acidity\"</th>\n",
       "      <th>\"volatile acidity\"</th>\n",
       "      <th>\"citric acid\"</th>\n",
       "      <th>\"residual sugar\"</th>\n",
       "      <th>\"chlorides\"</th>\n",
       "      <th>\"free sulfur dioxide\"</th>\n",
       "      <th>\"total sulfur dioxide\"</th>\n",
       "      <th>\"density\"</th>\n",
       "      <th>\"pH\"</th>\n",
       "      <th>\"sulphates\"</th>\n",
       "      <th>\"alcohol\"</th>\n",
       "      <th>\"quality\"</th>\n",
       "    </tr>\n",
       "  </thead>\n",
       "  <tbody>\n",
       "    <tr>\n",
       "      <th>count</th>\n",
       "      <td>1599.000000</td>\n",
       "      <td>1599.000000</td>\n",
       "      <td>1599.000000</td>\n",
       "      <td>1599.000000</td>\n",
       "      <td>1599.000000</td>\n",
       "      <td>1599.000000</td>\n",
       "      <td>1599.000000</td>\n",
       "      <td>1599.000000</td>\n",
       "      <td>1599.000000</td>\n",
       "      <td>1599.000000</td>\n",
       "      <td>1599.000000</td>\n",
       "      <td>1599.000000</td>\n",
       "    </tr>\n",
       "    <tr>\n",
       "      <th>mean</th>\n",
       "      <td>8.319637</td>\n",
       "      <td>0.527821</td>\n",
       "      <td>0.270976</td>\n",
       "      <td>2.538806</td>\n",
       "      <td>0.087467</td>\n",
       "      <td>15.874922</td>\n",
       "      <td>46.467792</td>\n",
       "      <td>0.996747</td>\n",
       "      <td>3.311113</td>\n",
       "      <td>0.658149</td>\n",
       "      <td>10.422983</td>\n",
       "      <td>5.636023</td>\n",
       "    </tr>\n",
       "    <tr>\n",
       "      <th>std</th>\n",
       "      <td>1.741096</td>\n",
       "      <td>0.179060</td>\n",
       "      <td>0.194801</td>\n",
       "      <td>1.409928</td>\n",
       "      <td>0.047065</td>\n",
       "      <td>10.460157</td>\n",
       "      <td>32.895324</td>\n",
       "      <td>0.001887</td>\n",
       "      <td>0.154386</td>\n",
       "      <td>0.169507</td>\n",
       "      <td>1.065668</td>\n",
       "      <td>0.807569</td>\n",
       "    </tr>\n",
       "    <tr>\n",
       "      <th>min</th>\n",
       "      <td>4.600000</td>\n",
       "      <td>0.120000</td>\n",
       "      <td>0.000000</td>\n",
       "      <td>0.900000</td>\n",
       "      <td>0.012000</td>\n",
       "      <td>1.000000</td>\n",
       "      <td>6.000000</td>\n",
       "      <td>0.990070</td>\n",
       "      <td>2.740000</td>\n",
       "      <td>0.330000</td>\n",
       "      <td>8.400000</td>\n",
       "      <td>3.000000</td>\n",
       "    </tr>\n",
       "    <tr>\n",
       "      <th>25%</th>\n",
       "      <td>7.100000</td>\n",
       "      <td>0.390000</td>\n",
       "      <td>0.090000</td>\n",
       "      <td>1.900000</td>\n",
       "      <td>0.070000</td>\n",
       "      <td>7.000000</td>\n",
       "      <td>22.000000</td>\n",
       "      <td>0.995600</td>\n",
       "      <td>3.210000</td>\n",
       "      <td>0.550000</td>\n",
       "      <td>9.500000</td>\n",
       "      <td>5.000000</td>\n",
       "    </tr>\n",
       "    <tr>\n",
       "      <th>50%</th>\n",
       "      <td>7.900000</td>\n",
       "      <td>0.520000</td>\n",
       "      <td>0.260000</td>\n",
       "      <td>2.200000</td>\n",
       "      <td>0.079000</td>\n",
       "      <td>14.000000</td>\n",
       "      <td>38.000000</td>\n",
       "      <td>0.996750</td>\n",
       "      <td>3.310000</td>\n",
       "      <td>0.620000</td>\n",
       "      <td>10.200000</td>\n",
       "      <td>6.000000</td>\n",
       "    </tr>\n",
       "    <tr>\n",
       "      <th>75%</th>\n",
       "      <td>9.200000</td>\n",
       "      <td>0.640000</td>\n",
       "      <td>0.420000</td>\n",
       "      <td>2.600000</td>\n",
       "      <td>0.090000</td>\n",
       "      <td>21.000000</td>\n",
       "      <td>62.000000</td>\n",
       "      <td>0.997835</td>\n",
       "      <td>3.400000</td>\n",
       "      <td>0.730000</td>\n",
       "      <td>11.100000</td>\n",
       "      <td>6.000000</td>\n",
       "    </tr>\n",
       "    <tr>\n",
       "      <th>max</th>\n",
       "      <td>15.900000</td>\n",
       "      <td>1.580000</td>\n",
       "      <td>1.000000</td>\n",
       "      <td>15.500000</td>\n",
       "      <td>0.611000</td>\n",
       "      <td>72.000000</td>\n",
       "      <td>289.000000</td>\n",
       "      <td>1.003690</td>\n",
       "      <td>4.010000</td>\n",
       "      <td>2.000000</td>\n",
       "      <td>14.900000</td>\n",
       "      <td>8.000000</td>\n",
       "    </tr>\n",
       "  </tbody>\n",
       "</table>\n",
       "</div>"
      ],
      "text/plain": [
       "       \"fixed acidity\"  \"volatile acidity\"  \"citric acid\"  \"residual sugar\"  \\\n",
       "count      1599.000000         1599.000000    1599.000000       1599.000000   \n",
       "mean          8.319637            0.527821       0.270976          2.538806   \n",
       "std           1.741096            0.179060       0.194801          1.409928   \n",
       "min           4.600000            0.120000       0.000000          0.900000   \n",
       "25%           7.100000            0.390000       0.090000          1.900000   \n",
       "50%           7.900000            0.520000       0.260000          2.200000   \n",
       "75%           9.200000            0.640000       0.420000          2.600000   \n",
       "max          15.900000            1.580000       1.000000         15.500000   \n",
       "\n",
       "       \"chlorides\"  \"free sulfur dioxide\"  \"total sulfur dioxide\"  \\\n",
       "count  1599.000000            1599.000000             1599.000000   \n",
       "mean      0.087467              15.874922               46.467792   \n",
       "std       0.047065              10.460157               32.895324   \n",
       "min       0.012000               1.000000                6.000000   \n",
       "25%       0.070000               7.000000               22.000000   \n",
       "50%       0.079000              14.000000               38.000000   \n",
       "75%       0.090000              21.000000               62.000000   \n",
       "max       0.611000              72.000000              289.000000   \n",
       "\n",
       "         \"density\"         \"pH\"  \"sulphates\"    \"alcohol\"    \"quality\"  \n",
       "count  1599.000000  1599.000000  1599.000000  1599.000000  1599.000000  \n",
       "mean      0.996747     3.311113     0.658149    10.422983     5.636023  \n",
       "std       0.001887     0.154386     0.169507     1.065668     0.807569  \n",
       "min       0.990070     2.740000     0.330000     8.400000     3.000000  \n",
       "25%       0.995600     3.210000     0.550000     9.500000     5.000000  \n",
       "50%       0.996750     3.310000     0.620000    10.200000     6.000000  \n",
       "75%       0.997835     3.400000     0.730000    11.100000     6.000000  \n",
       "max       1.003690     4.010000     2.000000    14.900000     8.000000  "
      ]
     },
     "execution_count": 76,
     "metadata": {},
     "output_type": "execute_result"
    }
   ],
   "source": [
    "# In R, we had the summary function to give us a overview of the data frame values\n",
    "# in python the equivalent is the member function describe\n",
    "\n",
    "redwine_df.describe()"
   ]
  },
  {
   "cell_type": "code",
   "execution_count": 77,
   "id": "9cd61aa4",
   "metadata": {
    "scrolled": true
   },
   "outputs": [
    {
     "data": {
      "text/plain": [
       "Index(['\"fixed acidity\"', '\"volatile acidity\"', '\"citric acid\"',\n",
       "       '\"residual sugar\"', '\"chlorides\"', '\"free sulfur dioxide\"',\n",
       "       '\"total sulfur dioxide\"', '\"density\"', '\"pH\"', '\"sulphates\"',\n",
       "       '\"alcohol\"', '\"quality\"'],\n",
       "      dtype='object')"
      ]
     },
     "execution_count": 77,
     "metadata": {},
     "output_type": "execute_result"
    }
   ],
   "source": [
    "# get a lot of columns\n",
    "redwine_df.columns"
   ]
  },
  {
   "cell_type": "markdown",
   "id": "ed5eb43b",
   "metadata": {},
   "source": [
    "We have some weird double quote thing going on here,  we should probably figure out how to clean that up,  use some sort of \n",
    "regex approach\n",
    "\n",
    "It turns out that pandas has a member function to change column names"
   ]
  },
  {
   "cell_type": "code",
   "execution_count": 78,
   "id": "cf2d4411",
   "metadata": {
    "scrolled": true
   },
   "outputs": [
    {
     "data": {
      "text/html": [
       "<div>\n",
       "<style scoped>\n",
       "    .dataframe tbody tr th:only-of-type {\n",
       "        vertical-align: middle;\n",
       "    }\n",
       "\n",
       "    .dataframe tbody tr th {\n",
       "        vertical-align: top;\n",
       "    }\n",
       "\n",
       "    .dataframe thead th {\n",
       "        text-align: right;\n",
       "    }\n",
       "</style>\n",
       "<table border=\"1\" class=\"dataframe\">\n",
       "  <thead>\n",
       "    <tr style=\"text-align: right;\">\n",
       "      <th></th>\n",
       "      <th>\"citric acid\"</th>\n",
       "      <th>\"chlorides\"</th>\n",
       "    </tr>\n",
       "  </thead>\n",
       "  <tbody>\n",
       "    <tr>\n",
       "      <th>count</th>\n",
       "      <td>1599.000000</td>\n",
       "      <td>1599.000000</td>\n",
       "    </tr>\n",
       "    <tr>\n",
       "      <th>mean</th>\n",
       "      <td>0.270976</td>\n",
       "      <td>0.087467</td>\n",
       "    </tr>\n",
       "    <tr>\n",
       "      <th>std</th>\n",
       "      <td>0.194801</td>\n",
       "      <td>0.047065</td>\n",
       "    </tr>\n",
       "    <tr>\n",
       "      <th>min</th>\n",
       "      <td>0.000000</td>\n",
       "      <td>0.012000</td>\n",
       "    </tr>\n",
       "    <tr>\n",
       "      <th>25%</th>\n",
       "      <td>0.090000</td>\n",
       "      <td>0.070000</td>\n",
       "    </tr>\n",
       "    <tr>\n",
       "      <th>50%</th>\n",
       "      <td>0.260000</td>\n",
       "      <td>0.079000</td>\n",
       "    </tr>\n",
       "    <tr>\n",
       "      <th>75%</th>\n",
       "      <td>0.420000</td>\n",
       "      <td>0.090000</td>\n",
       "    </tr>\n",
       "    <tr>\n",
       "      <th>max</th>\n",
       "      <td>1.000000</td>\n",
       "      <td>0.611000</td>\n",
       "    </tr>\n",
       "  </tbody>\n",
       "</table>\n",
       "</div>"
      ],
      "text/plain": [
       "       \"citric acid\"  \"chlorides\"\n",
       "count    1599.000000  1599.000000\n",
       "mean        0.270976     0.087467\n",
       "std         0.194801     0.047065\n",
       "min         0.000000     0.012000\n",
       "25%         0.090000     0.070000\n",
       "50%         0.260000     0.079000\n",
       "75%         0.420000     0.090000\n",
       "max         1.000000     0.611000"
      ]
     },
     "execution_count": 78,
     "metadata": {},
     "output_type": "execute_result"
    }
   ],
   "source": [
    "# we can apply describe to only specific columns if desired\n",
    "redwine_df[['\"citric acid\"','\"chlorides\"']].describe()"
   ]
  },
  {
   "cell_type": "code",
   "execution_count": 79,
   "id": "a70f925d",
   "metadata": {},
   "outputs": [
    {
     "name": "stdout",
     "output_type": "stream",
     "text": [
      "10.422983114446502\n",
      "10.2\n",
      "1.0656675818473926\n"
     ]
    }
   ],
   "source": [
    "# We have member functions for count, mean, median etc\n",
    "\n",
    "print(redwine_df[ '\"alcohol\"'].mean())\n",
    "print(redwine_df[ '\"alcohol\"'].median())\n",
    "print(redwine_df[ '\"alcohol\"'].std())"
   ]
  },
  {
   "cell_type": "code",
   "execution_count": 80,
   "id": "93117ca7",
   "metadata": {},
   "outputs": [
    {
     "name": "stdout",
     "output_type": "stream",
     "text": [
      "652\n",
      "517\n"
     ]
    }
   ],
   "source": [
    "# we can find the location or index of the things like the min and max\n",
    "\n",
    "print(redwine_df['\"alcohol\"'].idxmax())\n",
    "print(redwine_df['\"alcohol\"'].idxmin())"
   ]
  },
  {
   "cell_type": "code",
   "execution_count": 81,
   "id": "b1e7ce93",
   "metadata": {},
   "outputs": [
    {
     "data": {
      "text/plain": [
       "\"fixed acidity\"            8.319637\n",
       "\"volatile acidity\"         0.527821\n",
       "\"citric acid\"              0.270976\n",
       "\"residual sugar\"           2.538806\n",
       "\"chlorides\"                0.087467\n",
       "\"free sulfur dioxide\"     15.874922\n",
       "\"total sulfur dioxide\"    46.467792\n",
       "\"density\"                  0.996747\n",
       "\"pH\"                       3.311113\n",
       "\"sulphates\"                0.658149\n",
       "\"alcohol\"                 10.422983\n",
       "\"quality\"                  5.636023\n",
       "dtype: float64"
      ]
     },
     "execution_count": 81,
     "metadata": {},
     "output_type": "execute_result"
    }
   ],
   "source": [
    "# we can apply these to all columns\n",
    "\n",
    "redwine_df.mean()"
   ]
  },
  {
   "cell_type": "markdown",
   "id": "055fc2ec",
   "metadata": {},
   "source": [
    "Pandas has some built-in plot functions,\n",
    "\n",
    "note the need here for "
   ]
  },
  {
   "cell_type": "code",
   "execution_count": 82,
   "id": "29f7ed32",
   "metadata": {},
   "outputs": [
    {
     "data": {
      "text/plain": [
       "<AxesSubplot:>"
      ]
     },
     "execution_count": 82,
     "metadata": {},
     "output_type": "execute_result"
    },
    {
     "data": {
      "image/png": "[encoded data removed]",
      "text/plain": [
       "<Figure size 432x288 with 1 Axes>"
      ]
     },
     "metadata": {
      "needs_background": "light"
     },
     "output_type": "display_data"
    }
   ],
   "source": [
    "redwine_df['\"citric acid\"'].hist()"
   ]
  },
  {
   "cell_type": "markdown",
   "id": "568ef096",
   "metadata": {},
   "source": [
    "# Question or goal to complete\n",
    "\n",
    "Go to open data buffalo,   look under \"data\" and filter down to show only datasets.\n",
    "\n",
    "Find an interesting looking data set,  find the URL for the dataset and load it into a pandas data frame,  using the URL if \n",
    "you can.\n",
    "\n",
    "Some of the URL links load the data in ways that are not compatible with the pd.read_csv function.  If that happens,  download\n",
    "the data as a CSV and load it that way\n",
    "\n",
    "Find out the following,  putting each of these in separate cell and adding comments to the notebooks\n",
    "\n",
    "-the size of the data \n",
    "-show the head\n",
    "-use describe() to get some basic statistics\n",
    "-show the column names\n",
    "- try to create a histogram of one column,  if you have continuous data in the dataframe\n",
    "\n",
    "\n",
    "If you have dates in the dataset,  convert that column to the pandas datatime object\n",
    "\n",
    "                  df['Date'] = df['Date'].astype('datetime64[ns]')\n",
    "\n",
    " pandas has member functions for working with dates as distinct type of variable   "
   ]
  },
  {
   "cell_type": "code",
   "execution_count": null,
   "id": "088466bd",
   "metadata": {},
   "outputs": [],
   "source": []
  },
  {
   "cell_type": "markdown",
   "id": "313b794b",
   "metadata": {},
   "source": [
    "# Grouping\n",
    "\n",
    "This allows you to apply the built in operations using a categorical grouping variable"
   ]
  },
  {
   "cell_type": "code",
   "execution_count": 83,
   "id": "ed11462b",
   "metadata": {
    "scrolled": true
   },
   "outputs": [
    {
     "data": {
      "text/plain": [
       "type\n",
       "ABSTRACT                  7\n",
       "ANTIQUE CLOCK             2\n",
       "ANTIQUE TOOL              1\n",
       "BAROMETER                 1\n",
       "BLUE PRINTS               1\n",
       "BOOK                      2\n",
       "BUST                      9\n",
       "CANNONS                   1\n",
       "DOORS                     1\n",
       "DRAWING                   6\n",
       "FIGURATIVE               29\n",
       "FIGURATIVE AND RELIEF     3\n",
       "FIGURITIVE                1\n",
       "FOUNTAIN                  6\n",
       "FURNITURE                 1\n",
       "GARMENT                   1\n",
       "LAMP                      3\n",
       "LANDSCAPE                 5\n",
       "LETTER/PHOTOGRAPH         1\n",
       "LUNETTE MURAL             3\n",
       "MAP                       5\n",
       "MURAL                     4\n",
       "PHOTOGRAPH                2\n",
       "PLAQUE                   34\n",
       "PLAQUES                   1\n",
       "PORTRAIT                 62\n",
       "RELIEF                   25\n",
       "TIME CAPSULE              3\n",
       "URN                       1\n",
       "VARIOUS                   2\n",
       "Name: title, dtype: int64"
      ]
     },
     "execution_count": 83,
     "metadata": {},
     "output_type": "execute_result"
    }
   ],
   "source": [
    "# there is a group by operation available\n",
    "# note that in the groupy operation, I had to give the full name of the column df_art['type']\n",
    "# which not what the pandas manual indicates\n",
    "\n",
    "df_art['title'].groupby(df_art['type']).count()              "
   ]
  },
  {
   "cell_type": "markdown",
   "id": "82f660ac",
   "metadata": {},
   "source": [
    "Creating a Pivot Table"
   ]
  },
  {
   "cell_type": "code",
   "execution_count": 99,
   "id": "776bbb7e",
   "metadata": {},
   "outputs": [
    {
     "name": "stdout",
     "output_type": "stream",
     "text": [
      "city                             BUFFALO\n",
      "site                type                \n",
      "1308 CITY HALL      BLUE PRINTS        1\n",
      "                    BOOK               1\n",
      "1417 CITY HALL      ABSTRACT           3\n",
      "                    LANDSCAPE          3\n",
      "                    PHOTOGRAPH         2\n",
      "...                                  ...\n",
      "SYMPHONY CIRCLE     LAMP               1\n",
      "TONY SISTI PARK     ABSTRACT           2\n",
      "TURNER PARKING RAMP PLAQUE             1\n",
      "TYLER PARK          PLAQUE             1\n",
      "WILLERT PARK        RELIEF             1\n",
      "\n",
      "[112 rows x 1 columns]\n"
     ]
    }
   ],
   "source": [
    "table=pd.pivot_table(df_art,values='category',index=['site','type'],columns='city',aggfunc=\"count\")\n",
    "\n",
    "print(table)"
   ]
  },
  {
   "cell_type": "code",
   "execution_count": 84,
   "id": "51cc5402",
   "metadata": {
    "scrolled": true
   },
   "outputs": [
    {
     "data": {
      "text/plain": [
       "Index(['title', 'category', 'type', 'medium', 'frame', 'photo_url_link',\n",
       "       'artist', 'contractor', 'founder', 'architect', 'carver', 'designer',\n",
       "       'date', 'object_height_in', 'object_width_in', 'object_depth_in',\n",
       "       'object_diameter_in', 'base_height_in', 'base_width_in',\n",
       "       'base_depth_in', 'base_diameter_in', 'plaque_inscription', 'site',\n",
       "       'street_address', 'city', 'zip_code', 'state', 'latitude', 'longitude',\n",
       "       'geocoded_column'],\n",
       "      dtype='object')"
      ]
     },
     "execution_count": 84,
     "metadata": {},
     "output_type": "execute_result"
    }
   ],
   "source": [
    "df_art.columns"
   ]
  },
  {
   "cell_type": "markdown",
   "id": "b3c82fcb",
   "metadata": {},
   "source": [
    "# Question or goal\n",
    "\n",
    "Figure out how to create a Pivot table using the data you downloaded from Open Data Buffalo\n",
    "\n",
    "Look for categories, and use the count option"
   ]
  },
  {
   "cell_type": "markdown",
   "id": "f9eb2d81",
   "metadata": {},
   "source": [
    "# Melting a data frame\n",
    "\n",
    "Converts a \"wide format\" data frame into a \"long format\" data frame\n",
    "\n",
    "In a long format data frame,  we have 1 or more identifier columns,  here I used title as the identifier- think of this\n",
    "like a data base index.   Note, you can have a composite index of more than one column\n",
    "\n",
    "The other two columns are the name of the variable followed by the value\n",
    "\n",
    "So the \"melted form\" is always  index, variable, value\n",
    "\n",
    "Some types of operations are easily carried out on the melted or long form of a dataframe\n",
    "\n",
    "I've figured out some cool plotting tactics, but other than that I don't use this form much.  I should learn to do that \n",
    "more effectively."
   ]
  },
  {
   "cell_type": "code",
   "execution_count": 88,
   "id": "792ed2dc",
   "metadata": {
    "scrolled": true
   },
   "outputs": [
    {
     "data": {
      "text/html": [
       "<div>\n",
       "<style scoped>\n",
       "    .dataframe tbody tr th:only-of-type {\n",
       "        vertical-align: middle;\n",
       "    }\n",
       "\n",
       "    .dataframe tbody tr th {\n",
       "        vertical-align: top;\n",
       "    }\n",
       "\n",
       "    .dataframe thead th {\n",
       "        text-align: right;\n",
       "    }\n",
       "</style>\n",
       "<table border=\"1\" class=\"dataframe\">\n",
       "  <thead>\n",
       "    <tr style=\"text-align: right;\">\n",
       "      <th></th>\n",
       "      <th>title</th>\n",
       "      <th>variable</th>\n",
       "      <th>value</th>\n",
       "    </tr>\n",
       "  </thead>\n",
       "  <tbody>\n",
       "    <tr>\n",
       "      <th>0</th>\n",
       "      <td>SOLE PARK</td>\n",
       "      <td>category</td>\n",
       "      <td>SCULPTURE</td>\n",
       "    </tr>\n",
       "    <tr>\n",
       "      <th>1</th>\n",
       "      <td>BUFFALO STREET MAP</td>\n",
       "      <td>category</td>\n",
       "      <td>GRAPHIC ARTS</td>\n",
       "    </tr>\n",
       "    <tr>\n",
       "      <th>2</th>\n",
       "      <td>WAR  MEMORIAL STADIUM RENDERING</td>\n",
       "      <td>category</td>\n",
       "      <td>GRAPHIC ARTS</td>\n",
       "    </tr>\n",
       "    <tr>\n",
       "      <th>3</th>\n",
       "      <td>MAYOR HIRAM BARTON</td>\n",
       "      <td>category</td>\n",
       "      <td>PAINTINGS</td>\n",
       "    </tr>\n",
       "    <tr>\n",
       "      <th>4</th>\n",
       "      <td>MAYOR ELI COOK</td>\n",
       "      <td>category</td>\n",
       "      <td>GRAPHICS ARTS</td>\n",
       "    </tr>\n",
       "    <tr>\n",
       "      <th>5</th>\n",
       "      <td>MAYOR ANTHONY MASIELLO</td>\n",
       "      <td>category</td>\n",
       "      <td>PAINTINGS</td>\n",
       "    </tr>\n",
       "    <tr>\n",
       "      <th>6</th>\n",
       "      <td>MAYOR CHANDLER J WELLS</td>\n",
       "      <td>category</td>\n",
       "      <td>PAINTINGS</td>\n",
       "    </tr>\n",
       "    <tr>\n",
       "      <th>7</th>\n",
       "      <td>MCMILLAN FOUNTAIN</td>\n",
       "      <td>category</td>\n",
       "      <td>DECORATIVE OBJECTS</td>\n",
       "    </tr>\n",
       "    <tr>\n",
       "      <th>8</th>\n",
       "      <td>SESQUICENTENNIAL TIME CAPSULE</td>\n",
       "      <td>category</td>\n",
       "      <td>DECORATIVE OBJECTS</td>\n",
       "    </tr>\n",
       "    <tr>\n",
       "      <th>9</th>\n",
       "      <td>ISOCHRONIC MOUNTAIN BUFFALO</td>\n",
       "      <td>category</td>\n",
       "      <td>SCULPTURE</td>\n",
       "    </tr>\n",
       "  </tbody>\n",
       "</table>\n",
       "</div>"
      ],
      "text/plain": [
       "                             title  variable               value\n",
       "0                        SOLE PARK  category           SCULPTURE\n",
       "1               BUFFALO STREET MAP  category        GRAPHIC ARTS\n",
       "2  WAR  MEMORIAL STADIUM RENDERING  category        GRAPHIC ARTS\n",
       "3               MAYOR HIRAM BARTON  category           PAINTINGS\n",
       "4                   MAYOR ELI COOK  category       GRAPHICS ARTS\n",
       "5           MAYOR ANTHONY MASIELLO  category           PAINTINGS\n",
       "6           MAYOR CHANDLER J WELLS  category           PAINTINGS\n",
       "7                MCMILLAN FOUNTAIN  category  DECORATIVE OBJECTS\n",
       "8    SESQUICENTENNIAL TIME CAPSULE  category  DECORATIVE OBJECTS\n",
       "9      ISOCHRONIC MOUNTAIN BUFFALO  category           SCULPTURE"
      ]
     },
     "execution_count": 88,
     "metadata": {},
     "output_type": "execute_result"
    }
   ],
   "source": [
    "temp=pd.melt(df_art,id_vars=['title'],value_vars=['category','type','photo_url_link','latitude','longitude'])\n",
    "temp.head(10)"
   ]
  },
  {
   "cell_type": "code",
   "execution_count": 90,
   "id": "9e248a07",
   "metadata": {
    "scrolled": true
   },
   "outputs": [
    {
     "data": {
      "text/html": [
       "<div>\n",
       "<style scoped>\n",
       "    .dataframe tbody tr th:only-of-type {\n",
       "        vertical-align: middle;\n",
       "    }\n",
       "\n",
       "    .dataframe tbody tr th {\n",
       "        vertical-align: top;\n",
       "    }\n",
       "\n",
       "    .dataframe thead th {\n",
       "        text-align: right;\n",
       "    }\n",
       "</style>\n",
       "<table border=\"1\" class=\"dataframe\">\n",
       "  <thead>\n",
       "    <tr style=\"text-align: right;\">\n",
       "      <th></th>\n",
       "      <th>title</th>\n",
       "      <th>variable</th>\n",
       "      <th>value</th>\n",
       "    </tr>\n",
       "  </thead>\n",
       "  <tbody>\n",
       "    <tr>\n",
       "      <th>1110</th>\n",
       "      <td>MAYOR ALEXANDER BRUSH</td>\n",
       "      <td>longitude</td>\n",
       "      <td>-78.879354</td>\n",
       "    </tr>\n",
       "    <tr>\n",
       "      <th>1111</th>\n",
       "      <td>MAYOR SOLOMON SCHEU</td>\n",
       "      <td>longitude</td>\n",
       "      <td>-78.879354</td>\n",
       "    </tr>\n",
       "    <tr>\n",
       "      <th>1112</th>\n",
       "      <td>WILLIAM L MARCY JR</td>\n",
       "      <td>longitude</td>\n",
       "      <td>-78.873155</td>\n",
       "    </tr>\n",
       "    <tr>\n",
       "      <th>1113</th>\n",
       "      <td>SURVEY RULER</td>\n",
       "      <td>longitude</td>\n",
       "      <td>-78.879354</td>\n",
       "    </tr>\n",
       "    <tr>\n",
       "      <th>1114</th>\n",
       "      <td>FRANK CALLAHAN MEMORIAL</td>\n",
       "      <td>longitude</td>\n",
       "      <td>-78.810073</td>\n",
       "    </tr>\n",
       "    <tr>\n",
       "      <th>1115</th>\n",
       "      <td>CHRISTOPHER COLUMBUS</td>\n",
       "      <td>longitude</td>\n",
       "      <td>-78.89306</td>\n",
       "    </tr>\n",
       "    <tr>\n",
       "      <th>1116</th>\n",
       "      <td>BUFFALO STREET MAP</td>\n",
       "      <td>longitude</td>\n",
       "      <td>-78.879354</td>\n",
       "    </tr>\n",
       "    <tr>\n",
       "      <th>1117</th>\n",
       "      <td>POLISH-AMERICAN VETERANS MEMORIAL</td>\n",
       "      <td>longitude</td>\n",
       "      <td>-78.880826</td>\n",
       "    </tr>\n",
       "    <tr>\n",
       "      <th>1118</th>\n",
       "      <td>THE BATTLE WITHIN</td>\n",
       "      <td>longitude</td>\n",
       "      <td>-78.881144</td>\n",
       "    </tr>\n",
       "    <tr>\n",
       "      <th>1119</th>\n",
       "      <td>CORONATION DAY</td>\n",
       "      <td>longitude</td>\n",
       "      <td>-78.87959</td>\n",
       "    </tr>\n",
       "  </tbody>\n",
       "</table>\n",
       "</div>"
      ],
      "text/plain": [
       "                                  title   variable      value\n",
       "1110              MAYOR ALEXANDER BRUSH  longitude -78.879354\n",
       "1111                MAYOR SOLOMON SCHEU  longitude -78.879354\n",
       "1112                 WILLIAM L MARCY JR  longitude -78.873155\n",
       "1113                       SURVEY RULER  longitude -78.879354\n",
       "1114            FRANK CALLAHAN MEMORIAL  longitude -78.810073\n",
       "1115               CHRISTOPHER COLUMBUS  longitude  -78.89306\n",
       "1116                 BUFFALO STREET MAP  longitude -78.879354\n",
       "1117  POLISH-AMERICAN VETERANS MEMORIAL  longitude -78.880826\n",
       "1118                  THE BATTLE WITHIN  longitude -78.881144\n",
       "1119                     CORONATION DAY  longitude  -78.87959"
      ]
     },
     "execution_count": 90,
     "metadata": {},
     "output_type": "execute_result"
    }
   ],
   "source": [
    "temp.tail(10)"
   ]
  },
  {
   "cell_type": "markdown",
   "id": "340766b4",
   "metadata": {},
   "source": [
    "#  Question- Create a melt of your data set, with a couple of variables included\n",
    "\n",
    "What variable or variables will you need in your index.  Do you need a composite index?\n",
    "\n",
    "Bonus- how could you make use of this melted version of the data?   I've used melted data to produce some interesting plots, but it's tough to think of other uses"
   ]
  },
  {
   "cell_type": "markdown",
   "id": "3af35c03",
   "metadata": {},
   "source": [
    "# Slicing and accessing sections of a data frame"
   ]
  },
  {
   "cell_type": "code",
   "execution_count": 43,
   "id": "7b542ca8",
   "metadata": {},
   "outputs": [],
   "source": [
    "# create an example frame from a dictionary\n",
    "\n",
    "data = {'state': ['Ohio', 'Ohio', 'Ohio', 'Nevada', 'Nevada', 'Nevada'],\n",
    "        'year': [2000, 2001, 2002, 2001, 2002, 2003],\n",
    "        'pop': [1.5, 1.7, 3.6, 2.4, 2.9, 3.2]}\n",
    "t_frame = pd.DataFrame(data)"
   ]
  },
  {
   "cell_type": "code",
   "execution_count": 44,
   "id": "ac654338",
   "metadata": {},
   "outputs": [
    {
     "data": {
      "text/html": [
       "<div>\n",
       "<style scoped>\n",
       "    .dataframe tbody tr th:only-of-type {\n",
       "        vertical-align: middle;\n",
       "    }\n",
       "\n",
       "    .dataframe tbody tr th {\n",
       "        vertical-align: top;\n",
       "    }\n",
       "\n",
       "    .dataframe thead th {\n",
       "        text-align: right;\n",
       "    }\n",
       "</style>\n",
       "<table border=\"1\" class=\"dataframe\">\n",
       "  <thead>\n",
       "    <tr style=\"text-align: right;\">\n",
       "      <th></th>\n",
       "      <th>state</th>\n",
       "      <th>year</th>\n",
       "      <th>pop</th>\n",
       "    </tr>\n",
       "  </thead>\n",
       "  <tbody>\n",
       "    <tr>\n",
       "      <th>0</th>\n",
       "      <td>Ohio</td>\n",
       "      <td>2000</td>\n",
       "      <td>1.5</td>\n",
       "    </tr>\n",
       "    <tr>\n",
       "      <th>1</th>\n",
       "      <td>Ohio</td>\n",
       "      <td>2001</td>\n",
       "      <td>1.7</td>\n",
       "    </tr>\n",
       "    <tr>\n",
       "      <th>2</th>\n",
       "      <td>Ohio</td>\n",
       "      <td>2002</td>\n",
       "      <td>3.6</td>\n",
       "    </tr>\n",
       "    <tr>\n",
       "      <th>3</th>\n",
       "      <td>Nevada</td>\n",
       "      <td>2001</td>\n",
       "      <td>2.4</td>\n",
       "    </tr>\n",
       "    <tr>\n",
       "      <th>4</th>\n",
       "      <td>Nevada</td>\n",
       "      <td>2002</td>\n",
       "      <td>2.9</td>\n",
       "    </tr>\n",
       "    <tr>\n",
       "      <th>5</th>\n",
       "      <td>Nevada</td>\n",
       "      <td>2003</td>\n",
       "      <td>3.2</td>\n",
       "    </tr>\n",
       "  </tbody>\n",
       "</table>\n",
       "</div>"
      ],
      "text/plain": [
       "    state  year  pop\n",
       "0    Ohio  2000  1.5\n",
       "1    Ohio  2001  1.7\n",
       "2    Ohio  2002  3.6\n",
       "3  Nevada  2001  2.4\n",
       "4  Nevada  2002  2.9\n",
       "5  Nevada  2003  3.2"
      ]
     },
     "execution_count": 44,
     "metadata": {},
     "output_type": "execute_result"
    }
   ],
   "source": [
    "t_frame"
   ]
  },
  {
   "cell_type": "code",
   "execution_count": 45,
   "id": "e1961586",
   "metadata": {},
   "outputs": [
    {
     "name": "stdout",
     "output_type": "stream",
     "text": [
      "0      Ohio\n",
      "1      Ohio\n",
      "2      Ohio\n",
      "3    Nevada\n",
      "4    Nevada\n",
      "5    Nevada\n",
      "Name: state, dtype: object\n",
      "--------------------------\n",
      "0      Ohio\n",
      "1      Ohio\n",
      "2      Ohio\n",
      "3    Nevada\n",
      "4    Nevada\n",
      "5    Nevada\n",
      "Name: state, dtype: object\n"
     ]
    }
   ],
   "source": [
    "# accessing colums, two forms\n",
    "\n",
    "print(t_frame['state'])\n",
    "print(\"--------------------------\")\n",
    "\n",
    "print(t_frame.state)"
   ]
  },
  {
   "cell_type": "code",
   "execution_count": 46,
   "id": "d43fb24d",
   "metadata": {},
   "outputs": [
    {
     "data": {
      "text/plain": [
       "state    Nevada\n",
       "year       2001\n",
       "pop         2.4\n",
       "Name: 3, dtype: object"
      ]
     },
     "execution_count": 46,
     "metadata": {},
     "output_type": "execute_result"
    }
   ],
   "source": [
    "# there is also a loc attribute that can pull rows\n",
    "\n",
    "t_frame.loc[3]"
   ]
  },
  {
   "cell_type": "code",
   "execution_count": 47,
   "id": "48eb57f0",
   "metadata": {},
   "outputs": [
    {
     "data": {
      "text/html": [
       "<div>\n",
       "<style scoped>\n",
       "    .dataframe tbody tr th:only-of-type {\n",
       "        vertical-align: middle;\n",
       "    }\n",
       "\n",
       "    .dataframe tbody tr th {\n",
       "        vertical-align: top;\n",
       "    }\n",
       "\n",
       "    .dataframe thead th {\n",
       "        text-align: right;\n",
       "    }\n",
       "</style>\n",
       "<table border=\"1\" class=\"dataframe\">\n",
       "  <thead>\n",
       "    <tr style=\"text-align: right;\">\n",
       "      <th></th>\n",
       "      <th>state</th>\n",
       "      <th>year</th>\n",
       "      <th>pop</th>\n",
       "    </tr>\n",
       "  </thead>\n",
       "  <tbody>\n",
       "    <tr>\n",
       "      <th>2</th>\n",
       "      <td>Ohio</td>\n",
       "      <td>2002</td>\n",
       "      <td>3.6</td>\n",
       "    </tr>\n",
       "    <tr>\n",
       "      <th>3</th>\n",
       "      <td>Nevada</td>\n",
       "      <td>2001</td>\n",
       "      <td>2.4</td>\n",
       "    </tr>\n",
       "  </tbody>\n",
       "</table>\n",
       "</div>"
      ],
      "text/plain": [
       "    state  year  pop\n",
       "2    Ohio  2002  3.6\n",
       "3  Nevada  2001  2.4"
      ]
     },
     "execution_count": 47,
     "metadata": {},
     "output_type": "execute_result"
    }
   ],
   "source": [
    "t_frame.loc[2:3]"
   ]
  },
  {
   "cell_type": "code",
   "execution_count": 48,
   "id": "c0294e2f",
   "metadata": {},
   "outputs": [],
   "source": [
    "# we can add columns by assignment\n",
    "t_frame['debt'] =-1"
   ]
  },
  {
   "cell_type": "markdown",
   "id": "0cfe1b42",
   "metadata": {},
   "source": [
    "Look at t_frame after the debt term was added,  what has happened?   Can you figure out how to set debt to a set of different\n",
    "random values (1 per state)\n"
   ]
  },
  {
   "cell_type": "code",
   "execution_count": null,
   "id": "7b0ab8bd",
   "metadata": {},
   "outputs": [],
   "source": []
  },
  {
   "cell_type": "code",
   "execution_count": 49,
   "id": "6c6b7431",
   "metadata": {},
   "outputs": [
    {
     "data": {
      "text/html": [
       "<div>\n",
       "<style scoped>\n",
       "    .dataframe tbody tr th:only-of-type {\n",
       "        vertical-align: middle;\n",
       "    }\n",
       "\n",
       "    .dataframe tbody tr th {\n",
       "        vertical-align: top;\n",
       "    }\n",
       "\n",
       "    .dataframe thead th {\n",
       "        text-align: right;\n",
       "    }\n",
       "</style>\n",
       "<table border=\"1\" class=\"dataframe\">\n",
       "  <thead>\n",
       "    <tr style=\"text-align: right;\">\n",
       "      <th></th>\n",
       "      <th>state</th>\n",
       "      <th>year</th>\n",
       "      <th>pop</th>\n",
       "      <th>debt</th>\n",
       "      <th>eastern</th>\n",
       "    </tr>\n",
       "  </thead>\n",
       "  <tbody>\n",
       "    <tr>\n",
       "      <th>0</th>\n",
       "      <td>Ohio</td>\n",
       "      <td>2000</td>\n",
       "      <td>1.5</td>\n",
       "      <td>-1</td>\n",
       "      <td>True</td>\n",
       "    </tr>\n",
       "    <tr>\n",
       "      <th>1</th>\n",
       "      <td>Ohio</td>\n",
       "      <td>2001</td>\n",
       "      <td>1.7</td>\n",
       "      <td>-1</td>\n",
       "      <td>True</td>\n",
       "    </tr>\n",
       "    <tr>\n",
       "      <th>2</th>\n",
       "      <td>Ohio</td>\n",
       "      <td>2002</td>\n",
       "      <td>3.6</td>\n",
       "      <td>-1</td>\n",
       "      <td>True</td>\n",
       "    </tr>\n",
       "    <tr>\n",
       "      <th>3</th>\n",
       "      <td>Nevada</td>\n",
       "      <td>2001</td>\n",
       "      <td>2.4</td>\n",
       "      <td>-1</td>\n",
       "      <td>False</td>\n",
       "    </tr>\n",
       "    <tr>\n",
       "      <th>4</th>\n",
       "      <td>Nevada</td>\n",
       "      <td>2002</td>\n",
       "      <td>2.9</td>\n",
       "      <td>-1</td>\n",
       "      <td>False</td>\n",
       "    </tr>\n",
       "    <tr>\n",
       "      <th>5</th>\n",
       "      <td>Nevada</td>\n",
       "      <td>2003</td>\n",
       "      <td>3.2</td>\n",
       "      <td>-1</td>\n",
       "      <td>False</td>\n",
       "    </tr>\n",
       "  </tbody>\n",
       "</table>\n",
       "</div>"
      ],
      "text/plain": [
       "    state  year  pop  debt  eastern\n",
       "0    Ohio  2000  1.5    -1     True\n",
       "1    Ohio  2001  1.7    -1     True\n",
       "2    Ohio  2002  3.6    -1     True\n",
       "3  Nevada  2001  2.4    -1    False\n",
       "4  Nevada  2002  2.9    -1    False\n",
       "5  Nevada  2003  3.2    -1    False"
      ]
     },
     "execution_count": 49,
     "metadata": {},
     "output_type": "execute_result"
    }
   ],
   "source": [
    "# Add a boolean column to t-frame identifying eastern states\n",
    "\n",
    "t_frame['eastern']= (t_frame.state==\"Ohio\")\n",
    "\n",
    "t_frame"
   ]
  },
  {
   "cell_type": "code",
   "execution_count": 51,
   "id": "191b4214",
   "metadata": {},
   "outputs": [
    {
     "data": {
      "text/plain": [
       "Index(['state', 'year', 'pop', 'debt'], dtype='object')"
      ]
     },
     "execution_count": 51,
     "metadata": {},
     "output_type": "execute_result"
    }
   ],
   "source": [
    "# we can use the del method to remove a column\n",
    "\n",
    "del t_frame['eastern']\n",
    "\n",
    "t_frame.columns"
   ]
  },
  {
   "cell_type": "code",
   "execution_count": 53,
   "id": "797f37b6",
   "metadata": {},
   "outputs": [
    {
     "data": {
      "text/plain": [
       "d    4.5\n",
       "b    7.2\n",
       "a   -5.3\n",
       "c    3.6\n",
       "dtype: float64"
      ]
     },
     "execution_count": 53,
     "metadata": {},
     "output_type": "execute_result"
    }
   ],
   "source": [
    "# Reindexing- changeing the order of columns or rows\n",
    "\n",
    "a=pd.Series([4.5,7.2,-5.3,3.6], index=['d','b','a','c'])\n",
    "a"
   ]
  },
  {
   "cell_type": "code",
   "execution_count": 55,
   "id": "6125cff3",
   "metadata": {},
   "outputs": [
    {
     "data": {
      "text/plain": [
       "a   -5.3\n",
       "b    7.2\n",
       "c    3.6\n",
       "d    4.5\n",
       "dtype: float64"
      ]
     },
     "execution_count": 55,
     "metadata": {},
     "output_type": "execute_result"
    }
   ],
   "source": [
    "a2=a.reindex(['a','b','c','d'])\n",
    "a2"
   ]
  },
  {
   "cell_type": "code",
   "execution_count": 57,
   "id": "e49d803b",
   "metadata": {},
   "outputs": [
    {
     "data": {
      "text/html": [
       "<div>\n",
       "<style scoped>\n",
       "    .dataframe tbody tr th:only-of-type {\n",
       "        vertical-align: middle;\n",
       "    }\n",
       "\n",
       "    .dataframe tbody tr th {\n",
       "        vertical-align: top;\n",
       "    }\n",
       "\n",
       "    .dataframe thead th {\n",
       "        text-align: right;\n",
       "    }\n",
       "</style>\n",
       "<table border=\"1\" class=\"dataframe\">\n",
       "  <thead>\n",
       "    <tr style=\"text-align: right;\">\n",
       "      <th></th>\n",
       "      <th>Ohio</th>\n",
       "      <th>Texas</th>\n",
       "      <th>California</th>\n",
       "    </tr>\n",
       "  </thead>\n",
       "  <tbody>\n",
       "    <tr>\n",
       "      <th>a</th>\n",
       "      <td>0</td>\n",
       "      <td>1</td>\n",
       "      <td>2</td>\n",
       "    </tr>\n",
       "    <tr>\n",
       "      <th>c</th>\n",
       "      <td>3</td>\n",
       "      <td>4</td>\n",
       "      <td>5</td>\n",
       "    </tr>\n",
       "    <tr>\n",
       "      <th>d</th>\n",
       "      <td>6</td>\n",
       "      <td>7</td>\n",
       "      <td>8</td>\n",
       "    </tr>\n",
       "  </tbody>\n",
       "</table>\n",
       "</div>"
      ],
      "text/plain": [
       "   Ohio  Texas  California\n",
       "a     0      1           2\n",
       "c     3      4           5\n",
       "d     6      7           8"
      ]
     },
     "execution_count": 57,
     "metadata": {},
     "output_type": "execute_result"
    }
   ],
   "source": [
    "# reordering a data frame\n",
    "\n",
    "frame = pd.DataFrame(np.arange(9).reshape((3, 3)), index=['a', 'c', 'd'],columns=['Ohio', 'Texas', 'California'])\n",
    "frame"
   ]
  },
  {
   "cell_type": "code",
   "execution_count": 59,
   "id": "bd9c8c8a",
   "metadata": {},
   "outputs": [
    {
     "data": {
      "text/html": [
       "<div>\n",
       "<style scoped>\n",
       "    .dataframe tbody tr th:only-of-type {\n",
       "        vertical-align: middle;\n",
       "    }\n",
       "\n",
       "    .dataframe tbody tr th {\n",
       "        vertical-align: top;\n",
       "    }\n",
       "\n",
       "    .dataframe thead th {\n",
       "        text-align: right;\n",
       "    }\n",
       "</style>\n",
       "<table border=\"1\" class=\"dataframe\">\n",
       "  <thead>\n",
       "    <tr style=\"text-align: right;\">\n",
       "      <th></th>\n",
       "      <th>Ohio</th>\n",
       "      <th>Texas</th>\n",
       "      <th>California</th>\n",
       "    </tr>\n",
       "  </thead>\n",
       "  <tbody>\n",
       "    <tr>\n",
       "      <th>a</th>\n",
       "      <td>0.0</td>\n",
       "      <td>1.0</td>\n",
       "      <td>2.0</td>\n",
       "    </tr>\n",
       "    <tr>\n",
       "      <th>b</th>\n",
       "      <td>NaN</td>\n",
       "      <td>NaN</td>\n",
       "      <td>NaN</td>\n",
       "    </tr>\n",
       "    <tr>\n",
       "      <th>c</th>\n",
       "      <td>3.0</td>\n",
       "      <td>4.0</td>\n",
       "      <td>5.0</td>\n",
       "    </tr>\n",
       "    <tr>\n",
       "      <th>d</th>\n",
       "      <td>6.0</td>\n",
       "      <td>7.0</td>\n",
       "      <td>8.0</td>\n",
       "    </tr>\n",
       "  </tbody>\n",
       "</table>\n",
       "</div>"
      ],
      "text/plain": [
       "   Ohio  Texas  California\n",
       "a   0.0    1.0         2.0\n",
       "b   NaN    NaN         NaN\n",
       "c   3.0    4.0         5.0\n",
       "d   6.0    7.0         8.0"
      ]
     },
     "execution_count": 59,
     "metadata": {},
     "output_type": "execute_result"
    }
   ],
   "source": [
    "frame2 = frame.reindex(['a', 'b', 'c', 'd'])\n",
    "\n",
    "# note the insertion of the blank row for b,  NaN means not a number\n",
    "\n",
    "frame2"
   ]
  },
  {
   "cell_type": "code",
   "execution_count": 60,
   "id": "bb1329f1",
   "metadata": {},
   "outputs": [
    {
     "data": {
      "text/html": [
       "<div>\n",
       "<style scoped>\n",
       "    .dataframe tbody tr th:only-of-type {\n",
       "        vertical-align: middle;\n",
       "    }\n",
       "\n",
       "    .dataframe tbody tr th {\n",
       "        vertical-align: top;\n",
       "    }\n",
       "\n",
       "    .dataframe thead th {\n",
       "        text-align: right;\n",
       "    }\n",
       "</style>\n",
       "<table border=\"1\" class=\"dataframe\">\n",
       "  <thead>\n",
       "    <tr style=\"text-align: right;\">\n",
       "      <th></th>\n",
       "      <th>Texas</th>\n",
       "      <th>Utah</th>\n",
       "      <th>California</th>\n",
       "    </tr>\n",
       "  </thead>\n",
       "  <tbody>\n",
       "    <tr>\n",
       "      <th>a</th>\n",
       "      <td>1</td>\n",
       "      <td>NaN</td>\n",
       "      <td>2</td>\n",
       "    </tr>\n",
       "    <tr>\n",
       "      <th>c</th>\n",
       "      <td>4</td>\n",
       "      <td>NaN</td>\n",
       "      <td>5</td>\n",
       "    </tr>\n",
       "    <tr>\n",
       "      <th>d</th>\n",
       "      <td>7</td>\n",
       "      <td>NaN</td>\n",
       "      <td>8</td>\n",
       "    </tr>\n",
       "  </tbody>\n",
       "</table>\n",
       "</div>"
      ],
      "text/plain": [
       "   Texas  Utah  California\n",
       "a      1   NaN           2\n",
       "c      4   NaN           5\n",
       "d      7   NaN           8"
      ]
     },
     "execution_count": 60,
     "metadata": {},
     "output_type": "execute_result"
    }
   ],
   "source": [
    "# reordering columns,  using the columns keyword\n",
    "\n",
    "states = ['Texas', 'Utah', 'California']\n",
    "\n",
    "frame.reindex(columns=states)\n",
    "\n"
   ]
  },
  {
   "cell_type": "markdown",
   "id": "46e0aa85",
   "metadata": {},
   "source": [
    "It's not obvious to me what the point of reindexing is,  I guess you could clean up the appearance of dataframes\n",
    "for output?  Any ideas?"
   ]
  },
  {
   "cell_type": "code",
   "execution_count": 61,
   "id": "8366c3e9",
   "metadata": {},
   "outputs": [
    {
     "data": {
      "text/html": [
       "<div>\n",
       "<style scoped>\n",
       "    .dataframe tbody tr th:only-of-type {\n",
       "        vertical-align: middle;\n",
       "    }\n",
       "\n",
       "    .dataframe tbody tr th {\n",
       "        vertical-align: top;\n",
       "    }\n",
       "\n",
       "    .dataframe thead th {\n",
       "        text-align: right;\n",
       "    }\n",
       "</style>\n",
       "<table border=\"1\" class=\"dataframe\">\n",
       "  <thead>\n",
       "    <tr style=\"text-align: right;\">\n",
       "      <th></th>\n",
       "      <th>one</th>\n",
       "      <th>two</th>\n",
       "      <th>three</th>\n",
       "      <th>four</th>\n",
       "    </tr>\n",
       "  </thead>\n",
       "  <tbody>\n",
       "    <tr>\n",
       "      <th>Ohio</th>\n",
       "      <td>0</td>\n",
       "      <td>1</td>\n",
       "      <td>2</td>\n",
       "      <td>3</td>\n",
       "    </tr>\n",
       "    <tr>\n",
       "      <th>Colorado</th>\n",
       "      <td>4</td>\n",
       "      <td>5</td>\n",
       "      <td>6</td>\n",
       "      <td>7</td>\n",
       "    </tr>\n",
       "    <tr>\n",
       "      <th>Utah</th>\n",
       "      <td>8</td>\n",
       "      <td>9</td>\n",
       "      <td>10</td>\n",
       "      <td>11</td>\n",
       "    </tr>\n",
       "    <tr>\n",
       "      <th>New York</th>\n",
       "      <td>12</td>\n",
       "      <td>13</td>\n",
       "      <td>14</td>\n",
       "      <td>15</td>\n",
       "    </tr>\n",
       "  </tbody>\n",
       "</table>\n",
       "</div>"
      ],
      "text/plain": [
       "          one  two  three  four\n",
       "Ohio        0    1      2     3\n",
       "Colorado    4    5      6     7\n",
       "Utah        8    9     10    11\n",
       "New York   12   13     14    15"
      ]
     },
     "execution_count": 61,
     "metadata": {},
     "output_type": "execute_result"
    }
   ],
   "source": [
    "# Dropping elements\n",
    "\n",
    "data = pd.DataFrame(np.arange(16).reshape((4, 4)),index=['Ohio', 'Colorado', 'Utah', 'New York'],columns=['one', 'two', 'three', 'four'])\n",
    "data"
   ]
  },
  {
   "cell_type": "code",
   "execution_count": 62,
   "id": "a209052e",
   "metadata": {},
   "outputs": [
    {
     "data": {
      "text/html": [
       "<div>\n",
       "<style scoped>\n",
       "    .dataframe tbody tr th:only-of-type {\n",
       "        vertical-align: middle;\n",
       "    }\n",
       "\n",
       "    .dataframe tbody tr th {\n",
       "        vertical-align: top;\n",
       "    }\n",
       "\n",
       "    .dataframe thead th {\n",
       "        text-align: right;\n",
       "    }\n",
       "</style>\n",
       "<table border=\"1\" class=\"dataframe\">\n",
       "  <thead>\n",
       "    <tr style=\"text-align: right;\">\n",
       "      <th></th>\n",
       "      <th>one</th>\n",
       "      <th>two</th>\n",
       "      <th>three</th>\n",
       "      <th>four</th>\n",
       "    </tr>\n",
       "  </thead>\n",
       "  <tbody>\n",
       "    <tr>\n",
       "      <th>Utah</th>\n",
       "      <td>8</td>\n",
       "      <td>9</td>\n",
       "      <td>10</td>\n",
       "      <td>11</td>\n",
       "    </tr>\n",
       "    <tr>\n",
       "      <th>New York</th>\n",
       "      <td>12</td>\n",
       "      <td>13</td>\n",
       "      <td>14</td>\n",
       "      <td>15</td>\n",
       "    </tr>\n",
       "  </tbody>\n",
       "</table>\n",
       "</div>"
      ],
      "text/plain": [
       "          one  two  three  four\n",
       "Utah        8    9     10    11\n",
       "New York   12   13     14    15"
      ]
     },
     "execution_count": 62,
     "metadata": {},
     "output_type": "execute_result"
    }
   ],
   "source": [
    "data.drop(['Ohio','Colorado'])"
   ]
  },
  {
   "cell_type": "code",
   "execution_count": 64,
   "id": "1c3ae795",
   "metadata": {},
   "outputs": [
    {
     "data": {
      "text/html": [
       "<div>\n",
       "<style scoped>\n",
       "    .dataframe tbody tr th:only-of-type {\n",
       "        vertical-align: middle;\n",
       "    }\n",
       "\n",
       "    .dataframe tbody tr th {\n",
       "        vertical-align: top;\n",
       "    }\n",
       "\n",
       "    .dataframe thead th {\n",
       "        text-align: right;\n",
       "    }\n",
       "</style>\n",
       "<table border=\"1\" class=\"dataframe\">\n",
       "  <thead>\n",
       "    <tr style=\"text-align: right;\">\n",
       "      <th></th>\n",
       "      <th>one</th>\n",
       "      <th>three</th>\n",
       "    </tr>\n",
       "  </thead>\n",
       "  <tbody>\n",
       "    <tr>\n",
       "      <th>Ohio</th>\n",
       "      <td>0</td>\n",
       "      <td>2</td>\n",
       "    </tr>\n",
       "    <tr>\n",
       "      <th>Colorado</th>\n",
       "      <td>4</td>\n",
       "      <td>6</td>\n",
       "    </tr>\n",
       "    <tr>\n",
       "      <th>Utah</th>\n",
       "      <td>8</td>\n",
       "      <td>10</td>\n",
       "    </tr>\n",
       "    <tr>\n",
       "      <th>New York</th>\n",
       "      <td>12</td>\n",
       "      <td>14</td>\n",
       "    </tr>\n",
       "  </tbody>\n",
       "</table>\n",
       "</div>"
      ],
      "text/plain": [
       "          one  three\n",
       "Ohio        0      2\n",
       "Colorado    4      6\n",
       "Utah        8     10\n",
       "New York   12     14"
      ]
     },
     "execution_count": 64,
     "metadata": {},
     "output_type": "execute_result"
    }
   ],
   "source": [
    "data.drop(['two','four'], axis='columns')"
   ]
  },
  {
   "cell_type": "code",
   "execution_count": 65,
   "id": "15e42033",
   "metadata": {},
   "outputs": [
    {
     "data": {
      "text/plain": [
       "0"
      ]
     },
     "execution_count": 65,
     "metadata": {},
     "output_type": "execute_result"
    }
   ],
   "source": [
    "# Indexing with integers- works like standard numpy or python index- note the need to use iloc()\n",
    "\n",
    "data.iloc[0,0]"
   ]
  },
  {
   "cell_type": "code",
   "execution_count": 66,
   "id": "2abb9a0d",
   "metadata": {},
   "outputs": [
    {
     "data": {
      "text/html": [
       "<div>\n",
       "<style scoped>\n",
       "    .dataframe tbody tr th:only-of-type {\n",
       "        vertical-align: middle;\n",
       "    }\n",
       "\n",
       "    .dataframe tbody tr th {\n",
       "        vertical-align: top;\n",
       "    }\n",
       "\n",
       "    .dataframe thead th {\n",
       "        text-align: right;\n",
       "    }\n",
       "</style>\n",
       "<table border=\"1\" class=\"dataframe\">\n",
       "  <thead>\n",
       "    <tr style=\"text-align: right;\">\n",
       "      <th></th>\n",
       "      <th>one</th>\n",
       "      <th>two</th>\n",
       "      <th>three</th>\n",
       "      <th>four</th>\n",
       "    </tr>\n",
       "  </thead>\n",
       "  <tbody>\n",
       "    <tr>\n",
       "      <th>Ohio</th>\n",
       "      <td>0</td>\n",
       "      <td>1</td>\n",
       "      <td>2</td>\n",
       "      <td>3</td>\n",
       "    </tr>\n",
       "    <tr>\n",
       "      <th>Colorado</th>\n",
       "      <td>4</td>\n",
       "      <td>5</td>\n",
       "      <td>6</td>\n",
       "      <td>7</td>\n",
       "    </tr>\n",
       "  </tbody>\n",
       "</table>\n",
       "</div>"
      ],
      "text/plain": [
       "          one  two  three  four\n",
       "Ohio        0    1      2     3\n",
       "Colorado    4    5      6     7"
      ]
     },
     "execution_count": 66,
     "metadata": {},
     "output_type": "execute_result"
    }
   ],
   "source": [
    "data.iloc[0:2,]"
   ]
  },
  {
   "cell_type": "code",
   "execution_count": 68,
   "id": "09af4450",
   "metadata": {
    "scrolled": true
   },
   "outputs": [
    {
     "data": {
      "text/plain": [
       "Colorado     6\n",
       "Utah        10\n",
       "Name: three, dtype: int32"
      ]
     },
     "execution_count": 68,
     "metadata": {},
     "output_type": "execute_result"
    }
   ],
   "source": [
    "#loc uses the column and row names\n",
    "\n",
    "data.loc[[\"Colorado\",\"Utah\"],\"three\"]"
   ]
  },
  {
   "cell_type": "markdown",
   "id": "2a46abbd",
   "metadata": {},
   "source": [
    "# Question/activity\n",
    "\n",
    "Show several slices of your data frame,   using column names and integer locations\n",
    "\n",
    "Explain what is happening in the slice"
   ]
  },
  {
   "cell_type": "markdown",
   "id": "9d0ffb63",
   "metadata": {},
   "source": [
    "# Function Application and Mapping\n",
    "\n",
    "Mapping refers to applying functions across a data structure\n",
    "\n",
    "The numpy methods also work on Pandas data frames"
   ]
  },
  {
   "cell_type": "code",
   "execution_count": 69,
   "id": "c3ebbc81",
   "metadata": {},
   "outputs": [
    {
     "data": {
      "text/html": [
       "<div>\n",
       "<style scoped>\n",
       "    .dataframe tbody tr th:only-of-type {\n",
       "        vertical-align: middle;\n",
       "    }\n",
       "\n",
       "    .dataframe tbody tr th {\n",
       "        vertical-align: top;\n",
       "    }\n",
       "\n",
       "    .dataframe thead th {\n",
       "        text-align: right;\n",
       "    }\n",
       "</style>\n",
       "<table border=\"1\" class=\"dataframe\">\n",
       "  <thead>\n",
       "    <tr style=\"text-align: right;\">\n",
       "      <th></th>\n",
       "      <th>b</th>\n",
       "      <th>d</th>\n",
       "      <th>e</th>\n",
       "    </tr>\n",
       "  </thead>\n",
       "  <tbody>\n",
       "    <tr>\n",
       "      <th>Utah</th>\n",
       "      <td>0.216580</td>\n",
       "      <td>-0.206514</td>\n",
       "      <td>-0.421551</td>\n",
       "    </tr>\n",
       "    <tr>\n",
       "      <th>Ohio</th>\n",
       "      <td>-0.698539</td>\n",
       "      <td>-0.640206</td>\n",
       "      <td>-0.884681</td>\n",
       "    </tr>\n",
       "    <tr>\n",
       "      <th>Texas</th>\n",
       "      <td>-0.352457</td>\n",
       "      <td>0.001880</td>\n",
       "      <td>0.666280</td>\n",
       "    </tr>\n",
       "    <tr>\n",
       "      <th>Oregon</th>\n",
       "      <td>-1.254074</td>\n",
       "      <td>0.012101</td>\n",
       "      <td>-1.041309</td>\n",
       "    </tr>\n",
       "  </tbody>\n",
       "</table>\n",
       "</div>"
      ],
      "text/plain": [
       "               b         d         e\n",
       "Utah    0.216580 -0.206514 -0.421551\n",
       "Ohio   -0.698539 -0.640206 -0.884681\n",
       "Texas  -0.352457  0.001880  0.666280\n",
       "Oregon -1.254074  0.012101 -1.041309"
      ]
     },
     "execution_count": 69,
     "metadata": {},
     "output_type": "execute_result"
    }
   ],
   "source": [
    "frame = pd.DataFrame(np.random.randn(4, 3), columns=list('bde'),index=['Utah', 'Ohio', 'Texas', 'Oregon'])\n",
    "frame"
   ]
  },
  {
   "cell_type": "code",
   "execution_count": 70,
   "id": "62fdc3f7",
   "metadata": {},
   "outputs": [
    {
     "data": {
      "text/plain": [
       "b    1.470654\n",
       "d    0.652307\n",
       "e    1.707589\n",
       "dtype: float64"
      ]
     },
     "execution_count": 70,
     "metadata": {},
     "output_type": "execute_result"
    }
   ],
   "source": [
    "# applying a lambda function to the columns of an array\n",
    "# a lambda function is one defined in a single line\n",
    "\n",
    "f=lambda x: x.max()-x.min()\n",
    "\n",
    "# the default apply() is by column,   as per the R apply() function\n",
    "\n",
    "frame.apply(f)"
   ]
  },
  {
   "cell_type": "code",
   "execution_count": 71,
   "id": "50a9dd0d",
   "metadata": {},
   "outputs": [
    {
     "data": {
      "text/plain": [
       "Utah      0.638131\n",
       "Ohio      0.244476\n",
       "Texas     1.018737\n",
       "Oregon    1.266175\n",
       "dtype: float64"
      ]
     },
     "execution_count": 71,
     "metadata": {},
     "output_type": "execute_result"
    }
   ],
   "source": [
    "# we can also use apply() across rows instead of columns\n",
    "\n",
    "frame.apply(f,axis=\"columns\")"
   ]
  },
  {
   "cell_type": "markdown",
   "id": "16a250d5",
   "metadata": {},
   "source": [
    "Note that there are a number of member functions, which don't require the use of apply(),   frame.mean(), max, min, sum\n",
    "etc\n",
    "\n",
    "use dir(frame) to see what is availabe."
   ]
  },
  {
   "cell_type": "markdown",
   "id": "8f3d7e5f",
   "metadata": {},
   "source": [
    "There is a version of apply called applymap() that acts on each element in the data frame"
   ]
  },
  {
   "cell_type": "code",
   "execution_count": 73,
   "id": "c1a1e929",
   "metadata": {},
   "outputs": [
    {
     "data": {
      "text/html": [
       "<div>\n",
       "<style scoped>\n",
       "    .dataframe tbody tr th:only-of-type {\n",
       "        vertical-align: middle;\n",
       "    }\n",
       "\n",
       "    .dataframe tbody tr th {\n",
       "        vertical-align: top;\n",
       "    }\n",
       "\n",
       "    .dataframe thead th {\n",
       "        text-align: right;\n",
       "    }\n",
       "</style>\n",
       "<table border=\"1\" class=\"dataframe\">\n",
       "  <thead>\n",
       "    <tr style=\"text-align: right;\">\n",
       "      <th></th>\n",
       "      <th>b</th>\n",
       "      <th>d</th>\n",
       "      <th>e</th>\n",
       "    </tr>\n",
       "  </thead>\n",
       "  <tbody>\n",
       "    <tr>\n",
       "      <th>Utah</th>\n",
       "      <td>0.046907</td>\n",
       "      <td>0.042648</td>\n",
       "      <td>0.177705</td>\n",
       "    </tr>\n",
       "    <tr>\n",
       "      <th>Ohio</th>\n",
       "      <td>0.487956</td>\n",
       "      <td>0.409863</td>\n",
       "      <td>0.782661</td>\n",
       "    </tr>\n",
       "    <tr>\n",
       "      <th>Texas</th>\n",
       "      <td>0.124226</td>\n",
       "      <td>0.000004</td>\n",
       "      <td>0.443929</td>\n",
       "    </tr>\n",
       "    <tr>\n",
       "      <th>Oregon</th>\n",
       "      <td>1.572702</td>\n",
       "      <td>0.000146</td>\n",
       "      <td>1.084324</td>\n",
       "    </tr>\n",
       "  </tbody>\n",
       "</table>\n",
       "</div>"
      ],
      "text/plain": [
       "               b         d         e\n",
       "Utah    0.046907  0.042648  0.177705\n",
       "Ohio    0.487956  0.409863  0.782661\n",
       "Texas   0.124226  0.000004  0.443929\n",
       "Oregon  1.572702  0.000146  1.084324"
      ]
     },
     "execution_count": 73,
     "metadata": {},
     "output_type": "execute_result"
    }
   ],
   "source": [
    "mysquare= lambda x: x**2\n",
    "\n",
    "frame.applymap(mysquare)"
   ]
  },
  {
   "cell_type": "code",
   "execution_count": null,
   "id": "6c68cefd",
   "metadata": {},
   "outputs": [],
   "source": [
    "# Sorting and Ranking"
   ]
  },
  {
   "cell_type": "code",
   "execution_count": 74,
   "id": "b814dbba",
   "metadata": {},
   "outputs": [
    {
     "data": {
      "text/plain": [
       "a    1\n",
       "b    2\n",
       "c    3\n",
       "d    0\n",
       "dtype: int64"
      ]
     },
     "execution_count": 74,
     "metadata": {},
     "output_type": "execute_result"
    }
   ],
   "source": [
    "# sorting by index\n",
    "\n",
    "tseries = pd.Series(range(4), index=['d', 'a', 'b', 'c'])\n",
    "\n",
    "tseries.sort_index()\n"
   ]
  },
  {
   "cell_type": "code",
   "execution_count": 76,
   "id": "a25212ed",
   "metadata": {},
   "outputs": [
    {
     "data": {
      "text/html": [
       "<div>\n",
       "<style scoped>\n",
       "    .dataframe tbody tr th:only-of-type {\n",
       "        vertical-align: middle;\n",
       "    }\n",
       "\n",
       "    .dataframe tbody tr th {\n",
       "        vertical-align: top;\n",
       "    }\n",
       "\n",
       "    .dataframe thead th {\n",
       "        text-align: right;\n",
       "    }\n",
       "</style>\n",
       "<table border=\"1\" class=\"dataframe\">\n",
       "  <thead>\n",
       "    <tr style=\"text-align: right;\">\n",
       "      <th></th>\n",
       "      <th>d</th>\n",
       "      <th>a</th>\n",
       "      <th>b</th>\n",
       "      <th>c</th>\n",
       "    </tr>\n",
       "  </thead>\n",
       "  <tbody>\n",
       "    <tr>\n",
       "      <th>three</th>\n",
       "      <td>0</td>\n",
       "      <td>1</td>\n",
       "      <td>2</td>\n",
       "      <td>3</td>\n",
       "    </tr>\n",
       "    <tr>\n",
       "      <th>one</th>\n",
       "      <td>4</td>\n",
       "      <td>5</td>\n",
       "      <td>6</td>\n",
       "      <td>7</td>\n",
       "    </tr>\n",
       "  </tbody>\n",
       "</table>\n",
       "</div>"
      ],
      "text/plain": [
       "       d  a  b  c\n",
       "three  0  1  2  3\n",
       "one    4  5  6  7"
      ]
     },
     "execution_count": 76,
     "metadata": {},
     "output_type": "execute_result"
    }
   ],
   "source": [
    "tframe = pd.DataFrame(np.arange(8).reshape((2, 4)),index=['three', 'one'],columns=['d', 'a', 'b', 'c'])\n",
    "tframe"
   ]
  },
  {
   "cell_type": "code",
   "execution_count": 77,
   "id": "4bbc7c6e",
   "metadata": {},
   "outputs": [
    {
     "data": {
      "text/html": [
       "<div>\n",
       "<style scoped>\n",
       "    .dataframe tbody tr th:only-of-type {\n",
       "        vertical-align: middle;\n",
       "    }\n",
       "\n",
       "    .dataframe tbody tr th {\n",
       "        vertical-align: top;\n",
       "    }\n",
       "\n",
       "    .dataframe thead th {\n",
       "        text-align: right;\n",
       "    }\n",
       "</style>\n",
       "<table border=\"1\" class=\"dataframe\">\n",
       "  <thead>\n",
       "    <tr style=\"text-align: right;\">\n",
       "      <th></th>\n",
       "      <th>d</th>\n",
       "      <th>a</th>\n",
       "      <th>b</th>\n",
       "      <th>c</th>\n",
       "    </tr>\n",
       "  </thead>\n",
       "  <tbody>\n",
       "    <tr>\n",
       "      <th>one</th>\n",
       "      <td>4</td>\n",
       "      <td>5</td>\n",
       "      <td>6</td>\n",
       "      <td>7</td>\n",
       "    </tr>\n",
       "    <tr>\n",
       "      <th>three</th>\n",
       "      <td>0</td>\n",
       "      <td>1</td>\n",
       "      <td>2</td>\n",
       "      <td>3</td>\n",
       "    </tr>\n",
       "  </tbody>\n",
       "</table>\n",
       "</div>"
      ],
      "text/plain": [
       "       d  a  b  c\n",
       "one    4  5  6  7\n",
       "three  0  1  2  3"
      ]
     },
     "execution_count": 77,
     "metadata": {},
     "output_type": "execute_result"
    }
   ],
   "source": [
    "# sort by row\n",
    "tframe.sort_index()"
   ]
  },
  {
   "cell_type": "code",
   "execution_count": 78,
   "id": "ae20bf3e",
   "metadata": {},
   "outputs": [
    {
     "data": {
      "text/html": [
       "<div>\n",
       "<style scoped>\n",
       "    .dataframe tbody tr th:only-of-type {\n",
       "        vertical-align: middle;\n",
       "    }\n",
       "\n",
       "    .dataframe tbody tr th {\n",
       "        vertical-align: top;\n",
       "    }\n",
       "\n",
       "    .dataframe thead th {\n",
       "        text-align: right;\n",
       "    }\n",
       "</style>\n",
       "<table border=\"1\" class=\"dataframe\">\n",
       "  <thead>\n",
       "    <tr style=\"text-align: right;\">\n",
       "      <th></th>\n",
       "      <th>a</th>\n",
       "      <th>b</th>\n",
       "      <th>c</th>\n",
       "      <th>d</th>\n",
       "    </tr>\n",
       "  </thead>\n",
       "  <tbody>\n",
       "    <tr>\n",
       "      <th>three</th>\n",
       "      <td>1</td>\n",
       "      <td>2</td>\n",
       "      <td>3</td>\n",
       "      <td>0</td>\n",
       "    </tr>\n",
       "    <tr>\n",
       "      <th>one</th>\n",
       "      <td>5</td>\n",
       "      <td>6</td>\n",
       "      <td>7</td>\n",
       "      <td>4</td>\n",
       "    </tr>\n",
       "  </tbody>\n",
       "</table>\n",
       "</div>"
      ],
      "text/plain": [
       "       a  b  c  d\n",
       "three  1  2  3  0\n",
       "one    5  6  7  4"
      ]
     },
     "execution_count": 78,
     "metadata": {},
     "output_type": "execute_result"
    }
   ],
   "source": [
    "# sort by column\n",
    "\n",
    "tframe.sort_index(axis='columns')"
   ]
  },
  {
   "cell_type": "code",
   "execution_count": 79,
   "id": "278eb8ec",
   "metadata": {},
   "outputs": [
    {
     "data": {
      "text/html": [
       "<div>\n",
       "<style scoped>\n",
       "    .dataframe tbody tr th:only-of-type {\n",
       "        vertical-align: middle;\n",
       "    }\n",
       "\n",
       "    .dataframe tbody tr th {\n",
       "        vertical-align: top;\n",
       "    }\n",
       "\n",
       "    .dataframe thead th {\n",
       "        text-align: right;\n",
       "    }\n",
       "</style>\n",
       "<table border=\"1\" class=\"dataframe\">\n",
       "  <thead>\n",
       "    <tr style=\"text-align: right;\">\n",
       "      <th></th>\n",
       "      <th>d</th>\n",
       "      <th>a</th>\n",
       "      <th>b</th>\n",
       "      <th>c</th>\n",
       "    </tr>\n",
       "  </thead>\n",
       "  <tbody>\n",
       "    <tr>\n",
       "      <th>three</th>\n",
       "      <td>0</td>\n",
       "      <td>1</td>\n",
       "      <td>2</td>\n",
       "      <td>3</td>\n",
       "    </tr>\n",
       "    <tr>\n",
       "      <th>one</th>\n",
       "      <td>4</td>\n",
       "      <td>5</td>\n",
       "      <td>6</td>\n",
       "      <td>7</td>\n",
       "    </tr>\n",
       "  </tbody>\n",
       "</table>\n",
       "</div>"
      ],
      "text/plain": [
       "       d  a  b  c\n",
       "three  0  1  2  3\n",
       "one    4  5  6  7"
      ]
     },
     "execution_count": 79,
     "metadata": {},
     "output_type": "execute_result"
    }
   ],
   "source": [
    "# sort by values,  rather than by indices\n",
    "tframe.sort_values(by=\"b\")"
   ]
  },
  {
   "cell_type": "markdown",
   "id": "c1d17377",
   "metadata": {},
   "source": [
    "#Question\n",
    "\n",
    "produce a version of your data set from open data buffalo,  sorted by one of the columns\n",
    "\n",
    "Figure out how to create a reversed or backwards sorted version of the data frame as well"
   ]
  }
 ],
 "metadata": {
  "kernelspec": {
   "display_name": "Python 3 (ipykernel)",
   "language": "python",
   "name": "python3"
  },
  "language_info": {
   "codemirror_mode": {
    "name": "ipython",
    "version": 3
   },
   "file_extension": ".py",
   "mimetype": "text/x-python",
   "name": "python",
   "nbconvert_exporter": "python",
   "pygments_lexer": "ipython3",
   "version": "3.9.7"
  }
 },
 "nbformat": 4,
 "nbformat_minor": 5
}
