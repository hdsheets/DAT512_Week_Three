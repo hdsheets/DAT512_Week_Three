{
 "cells": [
  {
   "cell_type": "markdown",
   "id": "0abec8c6-9c0b-4fe0-8cae-db859191dfab",
   "metadata": {},
   "source": [
    "# Regular Expressions in Pandas\n",
    "\n",
    "See Chapter 7 of \"Python for Data Analysis\" by Wes McKinney"
   ]
  },
  {
   "cell_type": "code",
   "execution_count": 1,
   "id": "8ae48d0c-9f1e-4d30-9250-2233488cd0ab",
   "metadata": {},
   "outputs": [],
   "source": [
    "import pandas as pd\n",
    "import numpy as np\n",
    "import re"
   ]
  },
  {
   "cell_type": "markdown",
   "id": "d2315010-4fb8-4605-9458-c3d1b71c9654",
   "metadata": {},
   "source": [
    "The re module handles\n",
    "    pattern matching\n",
    "    splitting strings\n",
    "    splitting\n",
    "    \n",
    "\"\\s+\" is regex coding for one or more white space characters\n",
    "\n",
    "We did some work with regex in DAT 511 and there are other guides for regex available, this is just some quick listings of how to get started with them in Python"
   ]
  },
  {
   "cell_type": "code",
   "execution_count": 2,
   "id": "db553601-c278-4a62-9427-67555c8adead",
   "metadata": {},
   "outputs": [
    {
     "data": {
      "text/plain": [
       "['foo', 'bar', 'baz', 'qux']"
      ]
     },
     "execution_count": 2,
     "metadata": {},
     "output_type": "execute_result"
    }
   ],
   "source": [
    "# here is a string split on multiple white spaces\n",
    "\n",
    "import re\n",
    "\n",
    "text = \"foo    bar\\t baz  \\tqux\"\n",
    "\n",
    "re.split('\\s+', text)\n"
   ]
  },
  {
   "cell_type": "code",
   "execution_count": 3,
   "id": "284e3cee-7f3e-4417-937c-0589222f39d4",
   "metadata": {},
   "outputs": [
    {
     "data": {
      "text/plain": [
       "['foo', 'bar', 'baz', 'qux']"
      ]
     },
     "execution_count": 3,
     "metadata": {},
     "output_type": "execute_result"
    }
   ],
   "source": [
    "# a compiled operation (function) based on a re fuction, \n",
    "\n",
    "regex = re.compile('\\s+')         \n",
    "\n",
    "regex.split(text)\n",
    "['foo', 'bar', 'baz', 'qux']"
   ]
  },
  {
   "cell_type": "code",
   "execution_count": 8,
   "id": "1e376f27-1fe1-4555-b5bf-6305aa1990ca",
   "metadata": {},
   "outputs": [
    {
     "data": {
      "text/plain": [
       "['The', 'quick', 'brown', 'fox', 'jumped', 'over', 'the', 'lazy', 'dog']"
      ]
     },
     "execution_count": 8,
     "metadata": {},
     "output_type": "execute_result"
    }
   ],
   "source": [
    "regex.split(\"The quick brown fox jumped over the lazy dog\")"
   ]
  },
  {
   "cell_type": "code",
   "execution_count": 9,
   "id": "63643e64-8931-4ddf-bf1e-9f907399c81e",
   "metadata": {},
   "outputs": [
    {
     "data": {
      "text/plain": [
       "['    ', '\\t ', '  \\t']"
      ]
     },
     "execution_count": 9,
     "metadata": {},
     "output_type": "execute_result"
    }
   ],
   "source": [
    "#show all the detected objects defined in the detection of white space\n",
    "regex.findall(text)"
   ]
  },
  {
   "cell_type": "code",
   "execution_count": 13,
   "id": "6c8d8ec1-6c3a-48e2-9c06-b7c08556b2f0",
   "metadata": {},
   "outputs": [],
   "source": [
    "text = \"\"\"Dave dave@google.com\n",
    "Steve steve@gmail.com\n",
    "Rob rob@gmail.com\n",
    "Ryan ryan@yahoo.com\n",
    "\"\"\"\n",
    "\n",
    "\n",
    "#this is a pattern designed to detect e-mail addresses,  a fancy bit of regex coding \n",
    "\n",
    "pattern = r'[A-Z0-9._%+-]+@[A-Z0-9.-]+\\.[A-Z]{2,4}'\n",
    "\n",
    "# re.IGNORECASE makes the regex case-insensitive\n",
    "regex = re.compile(pattern, flags=re.IGNORECASE)"
   ]
  },
  {
   "cell_type": "code",
   "execution_count": 11,
   "id": "eb2bf3c1-7a1c-4440-8de1-e61b9be16a10",
   "metadata": {},
   "outputs": [
    {
     "data": {
      "text/plain": [
       "['dave@google.com', 'steve@gmail.com', 'rob@gmail.com', 'ryan@yahoo.com']"
      ]
     },
     "execution_count": 11,
     "metadata": {},
     "output_type": "execute_result"
    }
   ],
   "source": [
    "# locate and extract these patterns\n",
    "regex.findall(text)"
   ]
  },
  {
   "cell_type": "code",
   "execution_count": 12,
   "id": "4de463c2-e432-4407-89b8-ade20d0f5b29",
   "metadata": {},
   "outputs": [
    {
     "name": "stdout",
     "output_type": "stream",
     "text": [
      "Dave REDACTED\n",
      "Steve REDACTED\n",
      "Rob REDACTED\n",
      "Ryan REDACTED\n",
      "\n"
     ]
    }
   ],
   "source": [
    "# substitution for this pattern\n",
    "print(regex.sub('REDACTED', text))"
   ]
  },
  {
   "cell_type": "code",
   "execution_count": 14,
   "id": "c7527032-9b10-401b-aed7-a3cce6fd5c93",
   "metadata": {},
   "outputs": [
    {
     "name": "stdout",
     "output_type": "stream",
     "text": [
      "<re.Match object; span=(5, 20), match='dave@google.com'>\n"
     ]
    },
    {
     "data": {
      "text/plain": [
       "'dave@google.com'"
      ]
     },
     "execution_count": 14,
     "metadata": {},
     "output_type": "execute_result"
    }
   ],
   "source": [
    "# search for the pattern,  locates the first occurrence\n",
    "\n",
    "m = regex.search(text)\n",
    "print(m)\n",
    "text[m.start():m.end()]"
   ]
  },
  {
   "cell_type": "code",
   "execution_count": null,
   "id": "88ecec4e-08f6-48f7-a401-8b6399e5df5d",
   "metadata": {},
   "outputs": [],
   "source": []
  }
 ],
 "metadata": {
  "kernelspec": {
   "display_name": "Python 3 (ipykernel)",
   "language": "python",
   "name": "python3"
  },
  "language_info": {
   "codemirror_mode": {
    "name": "ipython",
    "version": 3
   },
   "file_extension": ".py",
   "mimetype": "text/x-python",
   "name": "python",
   "nbconvert_exporter": "python",
   "pygments_lexer": "ipython3",
   "version": "3.9.7"
  }
 },
 "nbformat": 4,
 "nbformat_minor": 5
}
