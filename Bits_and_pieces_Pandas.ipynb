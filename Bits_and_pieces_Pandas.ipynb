{
 "cells": [
  {
   "cell_type": "markdown",
   "id": "14a38374",
   "metadata": {},
   "source": [
    "# Other bits and pieces of Pandas\n",
    "\n",
    "Some other useful features within Panda"
   ]
  },
  {
   "cell_type": "code",
   "execution_count": 1,
   "id": "f0f641e9",
   "metadata": {},
   "outputs": [],
   "source": [
    "import pandas as pd\n",
    "import numpy as np\n",
    "import matplotlib.pyplot as plt"
   ]
  },
  {
   "cell_type": "markdown",
   "id": "cf6598b9",
   "metadata": {},
   "source": [
    "# Background info\n",
    "\n",
    "\n",
    "zip() produces an iterable of tuples from one or more arrays"
   ]
  },
  {
   "cell_type": "code",
   "execution_count": 20,
   "id": "d246e6cb",
   "metadata": {},
   "outputs": [
    {
     "name": "stdout",
     "output_type": "stream",
     "text": [
      "[('Java', 14), ('Python', 3), ('JavaScript', 6)]\n",
      "<class 'zip'>\n"
     ]
    }
   ],
   "source": [
    "# what does zip() do\n",
    "\n",
    "languages = ['Java', 'Python', 'JavaScript']\n",
    "versions = [14, 3, 6]\n",
    "\n",
    "result = zip(languages, versions)\n",
    "print(list(result))\n",
    "print(type(result))"
   ]
  },
  {
   "cell_type": "code",
   "execution_count": 23,
   "id": "206902de",
   "metadata": {},
   "outputs": [
    {
     "name": "stdout",
     "output_type": "stream",
     "text": [
      "Java\n",
      "14\n",
      "Python\n",
      "3\n",
      "JavaScript\n",
      "6\n"
     ]
    }
   ],
   "source": [
    "# using zip to make multiple iterations make more sense\n",
    "\n",
    "for languages, versions in zip(languages, versions):\n",
    "    print(languages)\n",
    "    print(versions)"
   ]
  },
  {
   "cell_type": "code",
   "execution_count": 24,
   "id": "73c944f2",
   "metadata": {},
   "outputs": [
    {
     "name": "stdout",
     "output_type": "stream",
     "text": [
      "[('Java', 14), ('Python', 3), ('JavaScript', 6)]\n"
     ]
    }
   ],
   "source": [
    "# pairing two lists from a list of lists\n",
    "array_test=[['Java', 'Python', 'JavaScript'],[14, 3, 6]]\n",
    "\n",
    "print(list(zip(*array_test)))"
   ]
  },
  {
   "cell_type": "markdown",
   "id": "ea618564",
   "metadata": {},
   "source": [
    "# Multiindexing\n",
    "\n",
    "This is a hierarchical or multilevel indexing.  It allows you to store data of more than two dimensions in a 2D data frame\n",
    "\n",
    "It allows for novel groupby, pivoting and reshaping of data\n",
    "\n",
    "see  \n",
    "\n",
    "https://pandas.pydata.org/docs/user_guide/advanced.html"
   ]
  },
  {
   "cell_type": "code",
   "execution_count": 6,
   "id": "07052c2c",
   "metadata": {
    "scrolled": true
   },
   "outputs": [
    {
     "name": "stdout",
     "output_type": "stream",
     "text": [
      "[('bar', 'one'), ('bar', 'two'), ('baz', 'one'), ('baz', 'two'), ('foo', 'one'), ('foo', 'two'), ('qux', 'one'), ('qux', 'two')]\n",
      "\n",
      "\n",
      "\n",
      "MultiIndex([('bar', 'one'),\n",
      "            ('bar', 'two'),\n",
      "            ('baz', 'one'),\n",
      "            ('baz', 'two'),\n",
      "            ('foo', 'one'),\n",
      "            ('foo', 'two'),\n",
      "            ('qux', 'one'),\n",
      "            ('qux', 'two')],\n",
      "           names=['first', 'second'])\n"
     ]
    }
   ],
   "source": [
    "# set up two arrays for the indices,  these are nested indices,   with entries one and two for each name\n",
    "\n",
    "arrays = [\n",
    "    [\"bar\", \"bar\", \"baz\", \"baz\", \"foo\", \"foo\", \"qux\", \"qux\"],\n",
    "    [\"one\", \"two\", \"one\", \"two\", \"one\", \"two\", \"one\", \"two\"],\n",
    "]\n",
    "\n",
    "# now zip the arrays into a tuple\n",
    "\n",
    "tuples = list(zip(*arrays))\n",
    "\n",
    "print(tuples) \n",
    "print(\"\\n\\n\")\n",
    "\n",
    "# now form these into a multiindex\n",
    "\n",
    "index = pd.MultiIndex.from_tuples(tuples, names=[\"first\", \"second\"])\n",
    "\n",
    "print(index)\n"
   ]
  },
  {
   "cell_type": "code",
   "execution_count": 25,
   "id": "1cf730c9",
   "metadata": {},
   "outputs": [
    {
     "data": {
      "text/plain": [
       "first  second\n",
       "bar    one       0.076346\n",
       "       two       0.506665\n",
       "baz    one      -0.373134\n",
       "       two       0.108563\n",
       "foo    one       1.086595\n",
       "       two      -0.330963\n",
       "qux    one       0.731388\n",
       "       two      -0.720994\n",
       "dtype: float64"
      ]
     },
     "execution_count": 25,
     "metadata": {},
     "output_type": "execute_result"
    }
   ],
   "source": [
    "# put random values into a multiindexed series\n",
    "\n",
    "s = pd.Series(np.random.randn(8), index=index)\n",
    "\n",
    "#notice, the multiindex was use as the index, along rows\n",
    "\n",
    "# this looks like a  pivot table\n",
    "\n",
    "s"
   ]
  },
  {
   "cell_type": "code",
   "execution_count": 44,
   "id": "4a011603",
   "metadata": {},
   "outputs": [
    {
     "data": {
      "text/html": [
       "<div>\n",
       "<style scoped>\n",
       "    .dataframe tbody tr th:only-of-type {\n",
       "        vertical-align: middle;\n",
       "    }\n",
       "\n",
       "    .dataframe tbody tr th {\n",
       "        vertical-align: top;\n",
       "    }\n",
       "\n",
       "    .dataframe thead th {\n",
       "        text-align: right;\n",
       "    }\n",
       "</style>\n",
       "<table border=\"1\" class=\"dataframe\">\n",
       "  <thead>\n",
       "    <tr style=\"text-align: right;\">\n",
       "      <th></th>\n",
       "      <th></th>\n",
       "      <th>0</th>\n",
       "      <th>1</th>\n",
       "      <th>2</th>\n",
       "      <th>3</th>\n",
       "    </tr>\n",
       "  </thead>\n",
       "  <tbody>\n",
       "    <tr>\n",
       "      <th rowspan=\"2\" valign=\"top\">bar</th>\n",
       "      <th>one</th>\n",
       "      <td>-1.521963</td>\n",
       "      <td>-1.463046</td>\n",
       "      <td>0.070145</td>\n",
       "      <td>1.556898</td>\n",
       "    </tr>\n",
       "    <tr>\n",
       "      <th>two</th>\n",
       "      <td>-0.954557</td>\n",
       "      <td>0.623601</td>\n",
       "      <td>-0.406857</td>\n",
       "      <td>1.159631</td>\n",
       "    </tr>\n",
       "    <tr>\n",
       "      <th rowspan=\"2\" valign=\"top\">baz</th>\n",
       "      <th>one</th>\n",
       "      <td>-1.192189</td>\n",
       "      <td>0.529724</td>\n",
       "      <td>0.085353</td>\n",
       "      <td>-1.472661</td>\n",
       "    </tr>\n",
       "    <tr>\n",
       "      <th>two</th>\n",
       "      <td>-1.079078</td>\n",
       "      <td>-0.802271</td>\n",
       "      <td>0.457234</td>\n",
       "      <td>-0.121581</td>\n",
       "    </tr>\n",
       "    <tr>\n",
       "      <th rowspan=\"2\" valign=\"top\">foo</th>\n",
       "      <th>one</th>\n",
       "      <td>0.118811</td>\n",
       "      <td>0.802502</td>\n",
       "      <td>0.918795</td>\n",
       "      <td>1.095111</td>\n",
       "    </tr>\n",
       "    <tr>\n",
       "      <th>two</th>\n",
       "      <td>0.037181</td>\n",
       "      <td>-1.178443</td>\n",
       "      <td>0.462214</td>\n",
       "      <td>-1.093053</td>\n",
       "    </tr>\n",
       "    <tr>\n",
       "      <th rowspan=\"2\" valign=\"top\">qux</th>\n",
       "      <th>one</th>\n",
       "      <td>-0.685465</td>\n",
       "      <td>-0.360502</td>\n",
       "      <td>-0.188738</td>\n",
       "      <td>1.077028</td>\n",
       "    </tr>\n",
       "    <tr>\n",
       "      <th>two</th>\n",
       "      <td>-0.780007</td>\n",
       "      <td>-0.811423</td>\n",
       "      <td>0.384922</td>\n",
       "      <td>-1.019279</td>\n",
       "    </tr>\n",
       "  </tbody>\n",
       "</table>\n",
       "</div>"
      ],
      "text/plain": [
       "                0         1         2         3\n",
       "bar one -1.521963 -1.463046  0.070145  1.556898\n",
       "    two -0.954557  0.623601 -0.406857  1.159631\n",
       "baz one -1.192189  0.529724  0.085353 -1.472661\n",
       "    two -1.079078 -0.802271  0.457234 -0.121581\n",
       "foo one  0.118811  0.802502  0.918795  1.095111\n",
       "    two  0.037181 -1.178443  0.462214 -1.093053\n",
       "qux one -0.685465 -0.360502 -0.188738  1.077028\n",
       "    two -0.780007 -0.811423  0.384922 -1.019279"
      ]
     },
     "execution_count": 44,
     "metadata": {},
     "output_type": "execute_result"
    }
   ],
   "source": [
    "# creating a multi-indexed data frame\n",
    "# notice this is using the index, so this is multiindexing of rows\n",
    "\n",
    "df = pd.DataFrame(np.random.randn(8, 4), index=arrays)\n",
    "\n",
    "df"
   ]
  },
  {
   "cell_type": "code",
   "execution_count": 45,
   "id": "3baddb1a",
   "metadata": {
    "scrolled": true
   },
   "outputs": [
    {
     "data": {
      "text/plain": [
       "Index(['bar', 'bar', 'baz', 'baz', 'foo', 'foo', 'qux', 'qux'], dtype='object', name='first')"
      ]
     },
     "execution_count": 45,
     "metadata": {},
     "output_type": "execute_result"
    }
   ],
   "source": [
    "index.get_level_values(0)"
   ]
  },
  {
   "cell_type": "code",
   "execution_count": 46,
   "id": "97e8b6ef",
   "metadata": {},
   "outputs": [
    {
     "data": {
      "text/plain": [
       "Index(['one', 'two', 'one', 'two', 'one', 'two', 'one', 'two'], dtype='object', name='second')"
      ]
     },
     "execution_count": 46,
     "metadata": {},
     "output_type": "execute_result"
    }
   ],
   "source": [
    "index.get_level_values(1)"
   ]
  },
  {
   "cell_type": "code",
   "execution_count": 52,
   "id": "7e1edcc8",
   "metadata": {},
   "outputs": [
    {
     "data": {
      "text/html": [
       "<div>\n",
       "<style scoped>\n",
       "    .dataframe tbody tr th:only-of-type {\n",
       "        vertical-align: middle;\n",
       "    }\n",
       "\n",
       "    .dataframe tbody tr th {\n",
       "        vertical-align: top;\n",
       "    }\n",
       "\n",
       "    .dataframe thead th {\n",
       "        text-align: right;\n",
       "    }\n",
       "</style>\n",
       "<table border=\"1\" class=\"dataframe\">\n",
       "  <thead>\n",
       "    <tr style=\"text-align: right;\">\n",
       "      <th></th>\n",
       "      <th>0</th>\n",
       "      <th>1</th>\n",
       "      <th>2</th>\n",
       "      <th>3</th>\n",
       "    </tr>\n",
       "  </thead>\n",
       "  <tbody>\n",
       "    <tr>\n",
       "      <th>one</th>\n",
       "      <td>-1.521963</td>\n",
       "      <td>-1.463046</td>\n",
       "      <td>0.070145</td>\n",
       "      <td>1.556898</td>\n",
       "    </tr>\n",
       "    <tr>\n",
       "      <th>two</th>\n",
       "      <td>-0.954557</td>\n",
       "      <td>0.623601</td>\n",
       "      <td>-0.406857</td>\n",
       "      <td>1.159631</td>\n",
       "    </tr>\n",
       "  </tbody>\n",
       "</table>\n",
       "</div>"
      ],
      "text/plain": [
       "            0         1         2         3\n",
       "one -1.521963 -1.463046  0.070145  1.556898\n",
       "two -0.954557  0.623601 -0.406857  1.159631"
      ]
     },
     "execution_count": 52,
     "metadata": {},
     "output_type": "execute_result"
    }
   ],
   "source": [
    "df.loc['bar']."
   ]
  },
  {
   "cell_type": "code",
   "execution_count": 53,
   "id": "1528c543",
   "metadata": {},
   "outputs": [
    {
     "data": {
      "text/plain": [
       "0   -0.954557\n",
       "1    0.623601\n",
       "2   -0.406857\n",
       "3    1.159631\n",
       "Name: two, dtype: float64"
      ]
     },
     "execution_count": 53,
     "metadata": {},
     "output_type": "execute_result"
    }
   ],
   "source": [
    "df.loc[\"bar\"].loc[\"two\"]"
   ]
  },
  {
   "cell_type": "code",
   "execution_count": 32,
   "id": "5f9e8cb7",
   "metadata": {},
   "outputs": [
    {
     "data": {
      "text/html": [
       "<div>\n",
       "<style scoped>\n",
       "    .dataframe tbody tr th:only-of-type {\n",
       "        vertical-align: middle;\n",
       "    }\n",
       "\n",
       "    .dataframe tbody tr th {\n",
       "        vertical-align: top;\n",
       "    }\n",
       "\n",
       "    .dataframe thead tr th {\n",
       "        text-align: left;\n",
       "    }\n",
       "</style>\n",
       "<table border=\"1\" class=\"dataframe\">\n",
       "  <thead>\n",
       "    <tr>\n",
       "      <th>first</th>\n",
       "      <th colspan=\"2\" halign=\"left\">bar</th>\n",
       "      <th colspan=\"2\" halign=\"left\">baz</th>\n",
       "      <th colspan=\"2\" halign=\"left\">foo</th>\n",
       "      <th colspan=\"2\" halign=\"left\">qux</th>\n",
       "    </tr>\n",
       "    <tr>\n",
       "      <th>second</th>\n",
       "      <th>one</th>\n",
       "      <th>two</th>\n",
       "      <th>one</th>\n",
       "      <th>two</th>\n",
       "      <th>one</th>\n",
       "      <th>two</th>\n",
       "      <th>one</th>\n",
       "      <th>two</th>\n",
       "    </tr>\n",
       "  </thead>\n",
       "  <tbody>\n",
       "    <tr>\n",
       "      <th>A</th>\n",
       "      <td>-0.641894</td>\n",
       "      <td>-0.872780</td>\n",
       "      <td>-0.202219</td>\n",
       "      <td>0.052018</td>\n",
       "      <td>2.601914</td>\n",
       "      <td>2.276167</td>\n",
       "      <td>-0.495897</td>\n",
       "      <td>-1.082426</td>\n",
       "    </tr>\n",
       "    <tr>\n",
       "      <th>B</th>\n",
       "      <td>-0.470906</td>\n",
       "      <td>-1.087696</td>\n",
       "      <td>0.821964</td>\n",
       "      <td>-0.603633</td>\n",
       "      <td>0.851399</td>\n",
       "      <td>1.458690</td>\n",
       "      <td>0.244693</td>\n",
       "      <td>-1.248167</td>\n",
       "    </tr>\n",
       "    <tr>\n",
       "      <th>C</th>\n",
       "      <td>0.219771</td>\n",
       "      <td>-1.772853</td>\n",
       "      <td>-0.707174</td>\n",
       "      <td>-0.159775</td>\n",
       "      <td>-0.297540</td>\n",
       "      <td>-1.147315</td>\n",
       "      <td>0.295882</td>\n",
       "      <td>1.713992</td>\n",
       "    </tr>\n",
       "  </tbody>\n",
       "</table>\n",
       "</div>"
      ],
      "text/plain": [
       "first        bar                 baz                 foo                 qux  \\\n",
       "second       one       two       one       two       one       two       one   \n",
       "A      -0.641894 -0.872780 -0.202219  0.052018  2.601914  2.276167 -0.495897   \n",
       "B      -0.470906 -1.087696  0.821964 -0.603633  0.851399  1.458690  0.244693   \n",
       "C       0.219771 -1.772853 -0.707174 -0.159775 -0.297540 -1.147315  0.295882   \n",
       "\n",
       "first             \n",
       "second       two  \n",
       "A      -1.082426  \n",
       "B      -1.248167  \n",
       "C       1.713992  "
      ]
     },
     "execution_count": 32,
     "metadata": {},
     "output_type": "execute_result"
    }
   ],
   "source": [
    "# we can multiindex columns als well\n",
    "\n",
    "df2 = pd.DataFrame(np.random.randn(3, 8), index=[\"A\", \"B\", \"C\"], columns=index)\n",
    "\n",
    "df2"
   ]
  },
  {
   "cell_type": "code",
   "execution_count": 54,
   "id": "a15ab01e",
   "metadata": {
    "scrolled": true
   },
   "outputs": [
    {
     "data": {
      "text/html": [
       "<div>\n",
       "<style scoped>\n",
       "    .dataframe tbody tr th:only-of-type {\n",
       "        vertical-align: middle;\n",
       "    }\n",
       "\n",
       "    .dataframe tbody tr th {\n",
       "        vertical-align: top;\n",
       "    }\n",
       "\n",
       "    .dataframe thead th {\n",
       "        text-align: right;\n",
       "    }\n",
       "</style>\n",
       "<table border=\"1\" class=\"dataframe\">\n",
       "  <thead>\n",
       "    <tr style=\"text-align: right;\">\n",
       "      <th>second</th>\n",
       "      <th>one</th>\n",
       "      <th>two</th>\n",
       "    </tr>\n",
       "  </thead>\n",
       "  <tbody>\n",
       "    <tr>\n",
       "      <th>A</th>\n",
       "      <td>-0.641894</td>\n",
       "      <td>-0.872780</td>\n",
       "    </tr>\n",
       "    <tr>\n",
       "      <th>B</th>\n",
       "      <td>-0.470906</td>\n",
       "      <td>-1.087696</td>\n",
       "    </tr>\n",
       "    <tr>\n",
       "      <th>C</th>\n",
       "      <td>0.219771</td>\n",
       "      <td>-1.772853</td>\n",
       "    </tr>\n",
       "  </tbody>\n",
       "</table>\n",
       "</div>"
      ],
      "text/plain": [
       "second       one       two\n",
       "A      -0.641894 -0.872780\n",
       "B      -0.470906 -1.087696\n",
       "C       0.219771 -1.772853"
      ]
     },
     "execution_count": 54,
     "metadata": {},
     "output_type": "execute_result"
    }
   ],
   "source": [
    "# intersting slices are now possible\n",
    "\n",
    "df2[\"bar\"]"
   ]
  },
  {
   "cell_type": "code",
   "execution_count": 55,
   "id": "78965dd2",
   "metadata": {},
   "outputs": [
    {
     "data": {
      "text/plain": [
       "A   -0.641894\n",
       "B   -0.470906\n",
       "C    0.219771\n",
       "Name: (bar, one), dtype: float64"
      ]
     },
     "execution_count": 55,
     "metadata": {},
     "output_type": "execute_result"
    }
   ],
   "source": [
    "df2[\"bar\",\"one\"]"
   ]
  },
  {
   "cell_type": "code",
   "execution_count": null,
   "id": "54199a58",
   "metadata": {},
   "outputs": [],
   "source": [
    "# Getting an example data set loaded up"
   ]
  },
  {
   "cell_type": "code",
   "execution_count": 2,
   "id": "1d46f312",
   "metadata": {},
   "outputs": [],
   "source": [
    "url=\"https://data.buffalony.gov/resource/fkfv-wqrx.csv\"\n",
    "\n",
    "hydrants=pd.read_csv(url)"
   ]
  },
  {
   "cell_type": "code",
   "execution_count": 3,
   "id": "de2bb235",
   "metadata": {},
   "outputs": [
    {
     "data": {
      "text/html": [
       "<div>\n",
       "<style scoped>\n",
       "    .dataframe tbody tr th:only-of-type {\n",
       "        vertical-align: middle;\n",
       "    }\n",
       "\n",
       "    .dataframe tbody tr th {\n",
       "        vertical-align: top;\n",
       "    }\n",
       "\n",
       "    .dataframe thead th {\n",
       "        text-align: right;\n",
       "    }\n",
       "</style>\n",
       "<table border=\"1\" class=\"dataframe\">\n",
       "  <thead>\n",
       "    <tr style=\"text-align: right;\">\n",
       "      <th></th>\n",
       "      <th>the_geom</th>\n",
       "      <th>objectid</th>\n",
       "      <th>hydrant_id</th>\n",
       "      <th>st_number</th>\n",
       "      <th>st_name</th>\n",
       "      <th>cross_st</th>\n",
       "      <th>location</th>\n",
       "      <th>hyd_type</th>\n",
       "      <th>hyd_color</th>\n",
       "      <th>datecollec</th>\n",
       "      <th>x</th>\n",
       "      <th>y</th>\n",
       "      <th>map_num</th>\n",
       "      <th>map_quad</th>\n",
       "      <th>hyd_num</th>\n",
       "      <th>insp_dist</th>\n",
       "      <th>comments</th>\n",
       "    </tr>\n",
       "  </thead>\n",
       "  <tbody>\n",
       "    <tr>\n",
       "      <th>0</th>\n",
       "      <td>POINT (-78.847815301278 42.931013768472)</td>\n",
       "      <td>6453</td>\n",
       "      <td>6C-0118</td>\n",
       "      <td>OPP 2254</td>\n",
       "      <td>MAIN ST</td>\n",
       "      <td>FLORENCE AVE</td>\n",
       "      <td>MAIN ST</td>\n",
       "      <td>MUELLER</td>\n",
       "      <td>WHITE</td>\n",
       "      <td>NaN</td>\n",
       "      <td>1077462.97</td>\n",
       "      <td>1068041.44</td>\n",
       "      <td>6</td>\n",
       "      <td>6C</td>\n",
       "      <td>118</td>\n",
       "      <td>5</td>\n",
       "      <td>NaN</td>\n",
       "    </tr>\n",
       "    <tr>\n",
       "      <th>1</th>\n",
       "      <td>POINT (-78.887261638708 42.925981934471)</td>\n",
       "      <td>6045</td>\n",
       "      <td>5C-0117</td>\n",
       "      <td>312</td>\n",
       "      <td>BIRD AVE</td>\n",
       "      <td>PARKDALE AVE</td>\n",
       "      <td>NWC</td>\n",
       "      <td>K-81</td>\n",
       "      <td>RED</td>\n",
       "      <td>NaN</td>\n",
       "      <td>1066892.43</td>\n",
       "      <td>1066243.28</td>\n",
       "      <td>5</td>\n",
       "      <td>5C</td>\n",
       "      <td>117</td>\n",
       "      <td>2</td>\n",
       "      <td>NaN</td>\n",
       "    </tr>\n",
       "    <tr>\n",
       "      <th>2</th>\n",
       "      <td>POINT (-78.834552096816 42.901953752276)</td>\n",
       "      <td>1275</td>\n",
       "      <td>12B-0040</td>\n",
       "      <td>288</td>\n",
       "      <td>Loepere St</td>\n",
       "      <td>Walden Ave</td>\n",
       "      <td>NaN</td>\n",
       "      <td>HOWARD</td>\n",
       "      <td>RED</td>\n",
       "      <td>2006-10-06T00:00:00.000Z</td>\n",
       "      <td>1080983.30</td>\n",
       "      <td>1057439.66</td>\n",
       "      <td>12</td>\n",
       "      <td>12B</td>\n",
       "      <td>40</td>\n",
       "      <td>6</td>\n",
       "      <td>NaN</td>\n",
       "    </tr>\n",
       "    <tr>\n",
       "      <th>3</th>\n",
       "      <td>POINT (-78.878470724291 42.869767136562)</td>\n",
       "      <td>2437</td>\n",
       "      <td>14C-0091</td>\n",
       "      <td>NaN</td>\n",
       "      <td>S MICHIGAN AVE</td>\n",
       "      <td>FUHRMANN BLVD</td>\n",
       "      <td>NaN</td>\n",
       "      <td>K-81</td>\n",
       "      <td>BLUE</td>\n",
       "      <td>NaN</td>\n",
       "      <td>1069175.03</td>\n",
       "      <td>1045747.54</td>\n",
       "      <td>14</td>\n",
       "      <td>14C</td>\n",
       "      <td>91</td>\n",
       "      <td>11</td>\n",
       "      <td>NaN</td>\n",
       "    </tr>\n",
       "    <tr>\n",
       "      <th>4</th>\n",
       "      <td>POINT (-78.887564891849 42.93677043205)</td>\n",
       "      <td>5871</td>\n",
       "      <td>5B-0025</td>\n",
       "      <td>673</td>\n",
       "      <td>REES ST</td>\n",
       "      <td>NaN</td>\n",
       "      <td>NaN</td>\n",
       "      <td>K-81</td>\n",
       "      <td>YELLOW</td>\n",
       "      <td>NaN</td>\n",
       "      <td>1066825.43</td>\n",
       "      <td>1070175.44</td>\n",
       "      <td>5</td>\n",
       "      <td>5A</td>\n",
       "      <td>146</td>\n",
       "      <td>3</td>\n",
       "      <td>NaN</td>\n",
       "    </tr>\n",
       "  </tbody>\n",
       "</table>\n",
       "</div>"
      ],
      "text/plain": [
       "                                   the_geom  objectid hydrant_id st_number  \\\n",
       "0  POINT (-78.847815301278 42.931013768472)      6453    6C-0118  OPP 2254   \n",
       "1  POINT (-78.887261638708 42.925981934471)      6045    5C-0117       312   \n",
       "2  POINT (-78.834552096816 42.901953752276)      1275   12B-0040       288   \n",
       "3  POINT (-78.878470724291 42.869767136562)      2437   14C-0091       NaN   \n",
       "4   POINT (-78.887564891849 42.93677043205)      5871    5B-0025       673   \n",
       "\n",
       "          st_name       cross_st location hyd_type hyd_color  \\\n",
       "0         MAIN ST   FLORENCE AVE  MAIN ST  MUELLER     WHITE   \n",
       "1        BIRD AVE   PARKDALE AVE      NWC     K-81       RED   \n",
       "2      Loepere St     Walden Ave      NaN   HOWARD       RED   \n",
       "3  S MICHIGAN AVE  FUHRMANN BLVD      NaN     K-81      BLUE   \n",
       "4         REES ST            NaN      NaN     K-81    YELLOW   \n",
       "\n",
       "                 datecollec           x           y  map_num map_quad  \\\n",
       "0                       NaN  1077462.97  1068041.44        6       6C   \n",
       "1                       NaN  1066892.43  1066243.28        5       5C   \n",
       "2  2006-10-06T00:00:00.000Z  1080983.30  1057439.66       12      12B   \n",
       "3                       NaN  1069175.03  1045747.54       14      14C   \n",
       "4                       NaN  1066825.43  1070175.44        5       5A   \n",
       "\n",
       "   hyd_num  insp_dist comments  \n",
       "0      118          5      NaN  \n",
       "1      117          2      NaN  \n",
       "2       40          6      NaN  \n",
       "3       91         11      NaN  \n",
       "4      146          3      NaN  "
      ]
     },
     "execution_count": 3,
     "metadata": {},
     "output_type": "execute_result"
    }
   ],
   "source": [
    "hydrants.head()"
   ]
  },
  {
   "cell_type": "code",
   "execution_count": 74,
   "id": "a0864ea6",
   "metadata": {},
   "outputs": [
    {
     "data": {
      "text/plain": [
       "(1000, 17)"
      ]
     },
     "execution_count": 74,
     "metadata": {},
     "output_type": "execute_result"
    }
   ],
   "source": [
    "hydrants.shape"
   ]
  },
  {
   "cell_type": "code",
   "execution_count": null,
   "id": "d4059e54",
   "metadata": {},
   "outputs": [],
   "source": [
    "# Dealing with NaN values"
   ]
  },
  {
   "cell_type": "code",
   "execution_count": 71,
   "id": "80dd7d8c",
   "metadata": {},
   "outputs": [
    {
     "data": {
      "text/plain": [
       "6"
      ]
     },
     "execution_count": 71,
     "metadata": {},
     "output_type": "execute_result"
    }
   ],
   "source": [
    "# counts of missing data,  pd.isna gives us the binary coding of missing entries\n",
    "\n",
    "np.sum(pd.isna(hydrants['st_number']))"
   ]
  },
  {
   "cell_type": "code",
   "execution_count": 72,
   "id": "a92e6b3d",
   "metadata": {},
   "outputs": [
    {
     "data": {
      "text/html": [
       "<div>\n",
       "<style scoped>\n",
       "    .dataframe tbody tr th:only-of-type {\n",
       "        vertical-align: middle;\n",
       "    }\n",
       "\n",
       "    .dataframe tbody tr th {\n",
       "        vertical-align: top;\n",
       "    }\n",
       "\n",
       "    .dataframe thead th {\n",
       "        text-align: right;\n",
       "    }\n",
       "</style>\n",
       "<table border=\"1\" class=\"dataframe\">\n",
       "  <thead>\n",
       "    <tr style=\"text-align: right;\">\n",
       "      <th></th>\n",
       "      <th>the_geom</th>\n",
       "      <th>objectid</th>\n",
       "      <th>hydrant_id</th>\n",
       "      <th>st_number</th>\n",
       "      <th>st_name</th>\n",
       "      <th>cross_st</th>\n",
       "      <th>location</th>\n",
       "      <th>hyd_type</th>\n",
       "      <th>hyd_color</th>\n",
       "      <th>datecollec</th>\n",
       "      <th>x</th>\n",
       "      <th>y</th>\n",
       "      <th>map_num</th>\n",
       "      <th>map_quad</th>\n",
       "      <th>hyd_num</th>\n",
       "      <th>insp_dist</th>\n",
       "      <th>comments</th>\n",
       "    </tr>\n",
       "  </thead>\n",
       "  <tbody>\n",
       "    <tr>\n",
       "      <th>3</th>\n",
       "      <td>POINT (-78.878470724291 42.869767136562)</td>\n",
       "      <td>2437</td>\n",
       "      <td>14C-0091</td>\n",
       "      <td>NaN</td>\n",
       "      <td>S MICHIGAN AVE</td>\n",
       "      <td>FUHRMANN BLVD</td>\n",
       "      <td>NaN</td>\n",
       "      <td>K-81</td>\n",
       "      <td>BLUE</td>\n",
       "      <td>NaT</td>\n",
       "      <td>1069175.03</td>\n",
       "      <td>1045747.54</td>\n",
       "      <td>14</td>\n",
       "      <td>14C</td>\n",
       "      <td>91</td>\n",
       "      <td>11</td>\n",
       "      <td>NaN</td>\n",
       "    </tr>\n",
       "    <tr>\n",
       "      <th>86</th>\n",
       "      <td>POINT (-78.814897504857 42.842680517601)</td>\n",
       "      <td>4603</td>\n",
       "      <td>21B-0169</td>\n",
       "      <td>NaN</td>\n",
       "      <td>MCKINLEY PKWY</td>\n",
       "      <td>COOLIDGE RD</td>\n",
       "      <td>HYD SEC MCKINLEY PKWY &amp; COOLIDGE</td>\n",
       "      <td>MATHEWS</td>\n",
       "      <td>RED</td>\n",
       "      <td>NaT</td>\n",
       "      <td>1086189.97</td>\n",
       "      <td>1035822.67</td>\n",
       "      <td>0</td>\n",
       "      <td>21B</td>\n",
       "      <td>0</td>\n",
       "      <td>0</td>\n",
       "      <td>HYD SEC MCKINLEY PKWY &amp; COOLIDGE</td>\n",
       "    </tr>\n",
       "    <tr>\n",
       "      <th>204</th>\n",
       "      <td>POINT (-78.878237096688 42.878963730545)</td>\n",
       "      <td>2370</td>\n",
       "      <td>14B-0196</td>\n",
       "      <td>NaN</td>\n",
       "      <td>COMMERCIAL ST</td>\n",
       "      <td>PERRY BLVD</td>\n",
       "      <td>84.8' N 1.5' W of NWC PERRY BLVD</td>\n",
       "      <td>MUELLER</td>\n",
       "      <td>BLUE</td>\n",
       "      <td>NaT</td>\n",
       "      <td>1069249.40</td>\n",
       "      <td>1049098.98</td>\n",
       "      <td>14</td>\n",
       "      <td>14B</td>\n",
       "      <td>196</td>\n",
       "      <td>11</td>\n",
       "      <td>NaN</td>\n",
       "    </tr>\n",
       "    <tr>\n",
       "      <th>690</th>\n",
       "      <td>POINT (-78.845428565331 42.955192853221)</td>\n",
       "      <td>5186</td>\n",
       "      <td>3A-0104</td>\n",
       "      <td>NaN</td>\n",
       "      <td>RACHEL VINCENT WAY</td>\n",
       "      <td>STARIN AVE</td>\n",
       "      <td>2'S  402'W OF W CURB OF STARIN AVE</td>\n",
       "      <td>K-81</td>\n",
       "      <td>RED</td>\n",
       "      <td>NaT</td>\n",
       "      <td>1078129.62</td>\n",
       "      <td>1076851.52</td>\n",
       "      <td>3</td>\n",
       "      <td>3A</td>\n",
       "      <td>104</td>\n",
       "      <td>4</td>\n",
       "      <td>NaN</td>\n",
       "    </tr>\n",
       "    <tr>\n",
       "      <th>920</th>\n",
       "      <td>POINT (-78.866870884426 42.88212771143)</td>\n",
       "      <td>2371</td>\n",
       "      <td>14B-0197</td>\n",
       "      <td>NaN</td>\n",
       "      <td>DELAMR MITCHELL DRIVE</td>\n",
       "      <td>NaN</td>\n",
       "      <td>282'N 8'E NEC S.DIVISION AND DELMAR MITCHELL</td>\n",
       "      <td>MUELLER</td>\n",
       "      <td>BLUE</td>\n",
       "      <td>NaT</td>\n",
       "      <td>1072299.77</td>\n",
       "      <td>1050241.62</td>\n",
       "      <td>0</td>\n",
       "      <td>14B</td>\n",
       "      <td>0</td>\n",
       "      <td>0</td>\n",
       "      <td>282'N 8'E NEC S.DIVISION AND DELMAR MITCHELL</td>\n",
       "    </tr>\n",
       "    <tr>\n",
       "      <th>966</th>\n",
       "      <td>POINT (-78.875213089806 42.954692357742)</td>\n",
       "      <td>4814</td>\n",
       "      <td>2A-0098</td>\n",
       "      <td>NaN</td>\n",
       "      <td>Delaware Loop W</td>\n",
       "      <td>NaN</td>\n",
       "      <td>NaN</td>\n",
       "      <td>NaN</td>\n",
       "      <td>RED</td>\n",
       "      <td>NaT</td>\n",
       "      <td>1070155.66</td>\n",
       "      <td>1076695.38</td>\n",
       "      <td>0</td>\n",
       "      <td>NaN</td>\n",
       "      <td>0</td>\n",
       "      <td>0</td>\n",
       "      <td>NaN</td>\n",
       "    </tr>\n",
       "  </tbody>\n",
       "</table>\n",
       "</div>"
      ],
      "text/plain": [
       "                                     the_geom  objectid hydrant_id st_number  \\\n",
       "3    POINT (-78.878470724291 42.869767136562)      2437   14C-0091       NaN   \n",
       "86   POINT (-78.814897504857 42.842680517601)      4603   21B-0169       NaN   \n",
       "204  POINT (-78.878237096688 42.878963730545)      2370   14B-0196       NaN   \n",
       "690  POINT (-78.845428565331 42.955192853221)      5186    3A-0104       NaN   \n",
       "920   POINT (-78.866870884426 42.88212771143)      2371   14B-0197       NaN   \n",
       "966  POINT (-78.875213089806 42.954692357742)      4814    2A-0098       NaN   \n",
       "\n",
       "                   st_name       cross_st  \\\n",
       "3           S MICHIGAN AVE  FUHRMANN BLVD   \n",
       "86           MCKINLEY PKWY    COOLIDGE RD   \n",
       "204          COMMERCIAL ST     PERRY BLVD   \n",
       "690     RACHEL VINCENT WAY     STARIN AVE   \n",
       "920  DELAMR MITCHELL DRIVE            NaN   \n",
       "966        Delaware Loop W            NaN   \n",
       "\n",
       "                                         location hyd_type hyd_color  \\\n",
       "3                                             NaN     K-81      BLUE   \n",
       "86               HYD SEC MCKINLEY PKWY & COOLIDGE  MATHEWS       RED   \n",
       "204              84.8' N 1.5' W of NWC PERRY BLVD  MUELLER      BLUE   \n",
       "690            2'S  402'W OF W CURB OF STARIN AVE     K-81       RED   \n",
       "920  282'N 8'E NEC S.DIVISION AND DELMAR MITCHELL  MUELLER      BLUE   \n",
       "966                                           NaN      NaN       RED   \n",
       "\n",
       "    datecollec           x           y  map_num map_quad  hyd_num  insp_dist  \\\n",
       "3          NaT  1069175.03  1045747.54       14      14C       91         11   \n",
       "86         NaT  1086189.97  1035822.67        0      21B        0          0   \n",
       "204        NaT  1069249.40  1049098.98       14      14B      196         11   \n",
       "690        NaT  1078129.62  1076851.52        3       3A      104          4   \n",
       "920        NaT  1072299.77  1050241.62        0      14B        0          0   \n",
       "966        NaT  1070155.66  1076695.38        0      NaN        0          0   \n",
       "\n",
       "                                         comments  \n",
       "3                                             NaN  \n",
       "86               HYD SEC MCKINLEY PKWY & COOLIDGE  \n",
       "204                                           NaN  \n",
       "690                                           NaN  \n",
       "920  282'N 8'E NEC S.DIVISION AND DELMAR MITCHELL  \n",
       "966                                           NaN  "
      ]
     },
     "execution_count": 72,
     "metadata": {},
     "output_type": "execute_result"
    }
   ],
   "source": [
    "hydrants.loc[pd.isna(hydrants['st_number']),:]"
   ]
  },
  {
   "cell_type": "code",
   "execution_count": 73,
   "id": "3a1b910e",
   "metadata": {
    "scrolled": true
   },
   "outputs": [
    {
     "data": {
      "text/plain": [
       "92"
      ]
     },
     "execution_count": 73,
     "metadata": {},
     "output_type": "execute_result"
    }
   ],
   "source": [
    "np.sum(pd.isna(hydrants['datecollec']))"
   ]
  },
  {
   "cell_type": "code",
   "execution_count": 91,
   "id": "580f572a",
   "metadata": {},
   "outputs": [
    {
     "data": {
      "text/plain": [
       "0"
      ]
     },
     "execution_count": 91,
     "metadata": {},
     "output_type": "execute_result"
    }
   ],
   "source": [
    "# I want only the date stamped hydrants - notna is the opposite of isna\n",
    "\n",
    "hydrants_wd=hydrants.loc[pd.notna(hydrants['datecollec']),:]\n",
    "\n",
    "sum(pd.isna(hydrants_wd['datecollec']))"
   ]
  },
  {
   "cell_type": "markdown",
   "id": "caf796a9",
   "metadata": {},
   "source": [
    "# Date and time handling"
   ]
  },
  {
   "cell_type": "code",
   "execution_count": 106,
   "id": "161052ee",
   "metadata": {},
   "outputs": [
    {
     "name": "stderr",
     "output_type": "stream",
     "text": [
      "C:\\Users\\hdavi\\Anaconda3\\envs\\tf4\\lib\\site-packages\\ipykernel_launcher.py:7: SettingWithCopyWarning: \n",
      "A value is trying to be set on a copy of a slice from a DataFrame.\n",
      "Try using .loc[row_indexer,col_indexer] = value instead\n",
      "\n",
      "See the caveats in the documentation: https://pandas.pydata.org/pandas-docs/stable/user_guide/indexing.html#returning-a-view-versus-a-copy\n",
      "  import sys\n"
     ]
    }
   ],
   "source": [
    "import datetime\n",
    "\n",
    "temp=pd.to_datetime(hydrants_wd.datecollec)\n",
    "\n"
   ]
  },
  {
   "cell_type": "code",
   "execution_count": 107,
   "id": "768c6af3",
   "metadata": {},
   "outputs": [
    {
     "data": {
      "text/plain": [
       "the_geom                    object\n",
       "objectid                     int64\n",
       "hydrant_id                  object\n",
       "st_number                   object\n",
       "st_name                     object\n",
       "cross_st                    object\n",
       "location                    object\n",
       "hyd_type                    object\n",
       "hyd_color                   object\n",
       "datecollec     datetime64[ns, UTC]\n",
       "x                          float64\n",
       "y                          float64\n",
       "map_num                      int64\n",
       "map_quad                    object\n",
       "hyd_num                      int64\n",
       "insp_dist                    int64\n",
       "comments                    object\n",
       "datecollec2    datetime64[ns, UTC]\n",
       "dtype: object"
      ]
     },
     "execution_count": 107,
     "metadata": {},
     "output_type": "execute_result"
    }
   ],
   "source": [
    "hydrants_wd.dtypes"
   ]
  },
  {
   "cell_type": "code",
   "execution_count": null,
   "id": "61ca7f30",
   "metadata": {},
   "outputs": [],
   "source": []
  }
 ],
 "metadata": {
  "kernelspec": {
   "display_name": "Python 3 (ipykernel)",
   "language": "python",
   "name": "python3"
  },
  "language_info": {
   "codemirror_mode": {
    "name": "ipython",
    "version": 3
   },
   "file_extension": ".py",
   "mimetype": "text/x-python",
   "name": "python",
   "nbconvert_exporter": "python",
   "pygments_lexer": "ipython3",
   "version": "3.9.7"
  }
 },
 "nbformat": 4,
 "nbformat_minor": 5
}
